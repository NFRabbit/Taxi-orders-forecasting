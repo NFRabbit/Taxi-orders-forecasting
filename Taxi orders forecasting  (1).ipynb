{
 "cells": [
  {
   "cell_type": "markdown",
   "metadata": {
    "toc": true
   },
   "source": [
    "<h1>Table of Contents<span class=\"tocSkip\"></span></h1>\n",
    "<div class=\"toc\"><ul class=\"toc-item\"><li><span><a href=\"#Preparation\" data-toc-modified-id=\"Preparation-1\"><span class=\"toc-item-num\">1&nbsp;&nbsp;</span>Preparation</a></span><ul class=\"toc-item\"><li><span><a href=\"#Resampling-by-One-Hour\" data-toc-modified-id=\"Resampling-by-One-Hour-1.1\"><span class=\"toc-item-num\">1.1&nbsp;&nbsp;</span><b>Resampling by One Hour</b></a></span></li></ul></li><li><span><a href=\"#Analysis\" data-toc-modified-id=\"Analysis-2\"><span class=\"toc-item-num\">2&nbsp;&nbsp;</span>Analysis</a></span></li><li><span><a href=\"#Training\" data-toc-modified-id=\"Training-3\"><span class=\"toc-item-num\">3&nbsp;&nbsp;</span>Training</a></span></li><li><span><a href=\"#Testing\" data-toc-modified-id=\"Testing-4\"><span class=\"toc-item-num\">4&nbsp;&nbsp;</span>Testing</a></span></li><li><span><a href=\"#Checklist\" data-toc-modified-id=\"Checklist-5\"><span class=\"toc-item-num\">5&nbsp;&nbsp;</span>Checklist</a></span></li></ul></div>"
   ]
  },
  {
   "cell_type": "markdown",
   "metadata": {},
   "source": [
    "##  Taxi orders forecasting."
   ]
  },
  {
   "cell_type": "markdown",
   "metadata": {},
   "source": [
    "The company \"Chetenykoe taxi\" has collected historical data on taxi orders at airports. In order to attract more drivers during peak loads, it is necessary to predict the number of taxi orders for the next hour. Build a model for such prediction.\n",
    "\n",
    "The RMSE metric value on the test set should be no more than 48.\n",
    "\n",
    "You need to:\n",
    "\n",
    "1. Load the data and resample it hourly.\n",
    "2. Analyze the data.\n",
    "3. Train different models with various hyperparameters. Make the test set size 10% of the original data.\n",
    "4. Test the data on the test set and draw conclusions.\n",
    "\n",
    "\n",
    "The data is stored in the file taxi.csv. The number of orders is located in the num_orders column."
   ]
  },
  {
   "cell_type": "markdown",
   "metadata": {},
   "source": [
    "### Preparation. Importing the necessary libraries. Loading the dataset"
   ]
  },
  {
   "cell_type": "code",
   "execution_count": 3,
   "metadata": {},
   "outputs": [],
   "source": [
    "import pandas as pd\n",
    "\n",
    "import datetime\n",
    "import matplotlib.pyplot as plt\n",
    "\n",
    "from statsmodels.tsa.seasonal import seasonal_decompose\n",
    "from sklearn.metrics import mean_squared_error\n",
    "from sklearn.model_selection import train_test_split, GridSearchCV,TimeSeriesSplit, cross_val_score\n",
    "import numpy as np\n",
    "from sklearn.metrics import make_scorer\n",
    "from sklearn.linear_model import LinearRegression\n",
    "from sklearn.ensemble import RandomForestRegressor\n",
    "from lightgbm import LGBMRegressor\n",
    "from sklearn.dummy import DummyRegressor\n",
    "import time\n"
   ]
  },
  {
   "cell_type": "code",
   "execution_count": 5,
   "metadata": {},
   "outputs": [],
   "source": [
    "\n",
    "try:\n",
    "    taxi  = pd.read_csv(r\"C:\\Users\\natal\\Downloads\\taxi.csv\")\n",
    "    \n",
    "except:\n",
    "    \n",
    "    taxi = pd.read_csv('/datasets/taxi.csv')"
   ]
  },
  {
   "cell_type": "code",
   "execution_count": 6,
   "metadata": {},
   "outputs": [
    {
     "data": {
      "text/html": [
       "<div>\n",
       "<style scoped>\n",
       "    .dataframe tbody tr th:only-of-type {\n",
       "        vertical-align: middle;\n",
       "    }\n",
       "\n",
       "    .dataframe tbody tr th {\n",
       "        vertical-align: top;\n",
       "    }\n",
       "\n",
       "    .dataframe thead th {\n",
       "        text-align: right;\n",
       "    }\n",
       "</style>\n",
       "<table border=\"1\" class=\"dataframe\">\n",
       "  <thead>\n",
       "    <tr style=\"text-align: right;\">\n",
       "      <th></th>\n",
       "      <th>datetime</th>\n",
       "      <th>num_orders</th>\n",
       "    </tr>\n",
       "  </thead>\n",
       "  <tbody>\n",
       "    <tr>\n",
       "      <th>0</th>\n",
       "      <td>2018-03-01 00:00:00</td>\n",
       "      <td>9</td>\n",
       "    </tr>\n",
       "    <tr>\n",
       "      <th>1</th>\n",
       "      <td>2018-03-01 00:10:00</td>\n",
       "      <td>14</td>\n",
       "    </tr>\n",
       "    <tr>\n",
       "      <th>2</th>\n",
       "      <td>2018-03-01 00:20:00</td>\n",
       "      <td>28</td>\n",
       "    </tr>\n",
       "    <tr>\n",
       "      <th>3</th>\n",
       "      <td>2018-03-01 00:30:00</td>\n",
       "      <td>20</td>\n",
       "    </tr>\n",
       "    <tr>\n",
       "      <th>4</th>\n",
       "      <td>2018-03-01 00:40:00</td>\n",
       "      <td>32</td>\n",
       "    </tr>\n",
       "    <tr>\n",
       "      <th>...</th>\n",
       "      <td>...</td>\n",
       "      <td>...</td>\n",
       "    </tr>\n",
       "    <tr>\n",
       "      <th>26491</th>\n",
       "      <td>2018-08-31 23:10:00</td>\n",
       "      <td>32</td>\n",
       "    </tr>\n",
       "    <tr>\n",
       "      <th>26492</th>\n",
       "      <td>2018-08-31 23:20:00</td>\n",
       "      <td>24</td>\n",
       "    </tr>\n",
       "    <tr>\n",
       "      <th>26493</th>\n",
       "      <td>2018-08-31 23:30:00</td>\n",
       "      <td>27</td>\n",
       "    </tr>\n",
       "    <tr>\n",
       "      <th>26494</th>\n",
       "      <td>2018-08-31 23:40:00</td>\n",
       "      <td>39</td>\n",
       "    </tr>\n",
       "    <tr>\n",
       "      <th>26495</th>\n",
       "      <td>2018-08-31 23:50:00</td>\n",
       "      <td>53</td>\n",
       "    </tr>\n",
       "  </tbody>\n",
       "</table>\n",
       "<p>26496 rows × 2 columns</p>\n",
       "</div>"
      ],
      "text/plain": [
       "                  datetime  num_orders\n",
       "0      2018-03-01 00:00:00           9\n",
       "1      2018-03-01 00:10:00          14\n",
       "2      2018-03-01 00:20:00          28\n",
       "3      2018-03-01 00:30:00          20\n",
       "4      2018-03-01 00:40:00          32\n",
       "...                    ...         ...\n",
       "26491  2018-08-31 23:10:00          32\n",
       "26492  2018-08-31 23:20:00          24\n",
       "26493  2018-08-31 23:30:00          27\n",
       "26494  2018-08-31 23:40:00          39\n",
       "26495  2018-08-31 23:50:00          53\n",
       "\n",
       "[26496 rows x 2 columns]"
      ]
     },
     "metadata": {},
     "output_type": "display_data"
    },
    {
     "data": {
      "text/html": [
       "<div>\n",
       "<style scoped>\n",
       "    .dataframe tbody tr th:only-of-type {\n",
       "        vertical-align: middle;\n",
       "    }\n",
       "\n",
       "    .dataframe tbody tr th {\n",
       "        vertical-align: top;\n",
       "    }\n",
       "\n",
       "    .dataframe thead th {\n",
       "        text-align: right;\n",
       "    }\n",
       "</style>\n",
       "<table border=\"1\" class=\"dataframe\">\n",
       "  <thead>\n",
       "    <tr style=\"text-align: right;\">\n",
       "      <th></th>\n",
       "      <th>num_orders</th>\n",
       "    </tr>\n",
       "  </thead>\n",
       "  <tbody>\n",
       "    <tr>\n",
       "      <th>count</th>\n",
       "      <td>26496.000000</td>\n",
       "    </tr>\n",
       "    <tr>\n",
       "      <th>mean</th>\n",
       "      <td>14.070463</td>\n",
       "    </tr>\n",
       "    <tr>\n",
       "      <th>std</th>\n",
       "      <td>9.211330</td>\n",
       "    </tr>\n",
       "    <tr>\n",
       "      <th>min</th>\n",
       "      <td>0.000000</td>\n",
       "    </tr>\n",
       "    <tr>\n",
       "      <th>25%</th>\n",
       "      <td>8.000000</td>\n",
       "    </tr>\n",
       "    <tr>\n",
       "      <th>50%</th>\n",
       "      <td>13.000000</td>\n",
       "    </tr>\n",
       "    <tr>\n",
       "      <th>75%</th>\n",
       "      <td>19.000000</td>\n",
       "    </tr>\n",
       "    <tr>\n",
       "      <th>max</th>\n",
       "      <td>119.000000</td>\n",
       "    </tr>\n",
       "  </tbody>\n",
       "</table>\n",
       "</div>"
      ],
      "text/plain": [
       "         num_orders\n",
       "count  26496.000000\n",
       "mean      14.070463\n",
       "std        9.211330\n",
       "min        0.000000\n",
       "25%        8.000000\n",
       "50%       13.000000\n",
       "75%       19.000000\n",
       "max      119.000000"
      ]
     },
     "metadata": {},
     "output_type": "display_data"
    }
   ],
   "source": [
    "display(taxi)\n",
    "display(taxi.describe())"
   ]
  },
  {
   "cell_type": "code",
   "execution_count": 7,
   "metadata": {},
   "outputs": [
    {
     "name": "stdout",
     "output_type": "stream",
     "text": [
      "<class 'pandas.core.frame.DataFrame'>\n",
      "RangeIndex: 26496 entries, 0 to 26495\n",
      "Data columns (total 2 columns):\n",
      " #   Column      Non-Null Count  Dtype         \n",
      "---  ------      --------------  -----         \n",
      " 0   datetime    26496 non-null  datetime64[ns]\n",
      " 1   num_orders  26496 non-null  int64         \n",
      "dtypes: datetime64[ns](1), int64(1)\n",
      "memory usage: 414.1 KB\n"
     ]
    },
    {
     "data": {
      "text/plain": [
       "None"
      ]
     },
     "metadata": {},
     "output_type": "display_data"
    }
   ],
   "source": [
    "taxi['datetime'] = pd.to_datetime(taxi['datetime'])\n",
    "display(taxi.info())\n"
   ]
  },
  {
   "cell_type": "code",
   "execution_count": 8,
   "metadata": {},
   "outputs": [
    {
     "name": "stdout",
     "output_type": "stream",
     "text": [
      "<class 'pandas.core.frame.DataFrame'>\n",
      "RangeIndex: 26496 entries, 0 to 26495\n",
      "Data columns (total 2 columns):\n",
      " #   Column      Non-Null Count  Dtype         \n",
      "---  ------      --------------  -----         \n",
      " 0   datetime    26496 non-null  datetime64[ns]\n",
      " 1   num_orders  26496 non-null  int64         \n",
      "dtypes: datetime64[ns](1), int64(1)\n",
      "memory usage: 414.1 KB\n"
     ]
    }
   ],
   "source": [
    "taxi.info()"
   ]
  },
  {
   "cell_type": "code",
   "execution_count": 9,
   "metadata": {},
   "outputs": [
    {
     "name": "stdout",
     "output_type": "stream",
     "text": [
      "<class 'pandas.core.frame.DataFrame'>\n",
      "DatetimeIndex: 26496 entries, 2018-03-01 00:00:00 to 2018-08-31 23:50:00\n",
      "Data columns (total 1 columns):\n",
      " #   Column      Non-Null Count  Dtype\n",
      "---  ------      --------------  -----\n",
      " 0   num_orders  26496 non-null  int64\n",
      "dtypes: int64(1)\n",
      "memory usage: 414.0 KB\n"
     ]
    },
    {
     "data": {
      "text/plain": [
       "None"
      ]
     },
     "metadata": {},
     "output_type": "display_data"
    }
   ],
   "source": [
    "taxi = taxi.set_index('datetime')\n",
    "taxi.sort_index(inplace=True)\n",
    "display(taxi.info())"
   ]
  },
  {
   "cell_type": "code",
   "execution_count": 10,
   "metadata": {},
   "outputs": [
    {
     "name": "stderr",
     "output_type": "stream",
     "text": [
      "C:\\Users\\natal\\AppData\\Local\\Temp\\ipykernel_3344\\2079195442.py:1: FutureWarning: is_monotonic is deprecated and will be removed in a future version. Use is_monotonic_increasing instead.\n",
      "  taxi.index.is_monotonic\n"
     ]
    },
    {
     "data": {
      "text/plain": [
       "True"
      ]
     },
     "execution_count": 10,
     "metadata": {},
     "output_type": "execute_result"
    }
   ],
   "source": [
    "taxi.index.is_monotonic"
   ]
  },
  {
   "cell_type": "markdown",
   "metadata": {},
   "source": [
    "<b>Conclusion:</b>\n",
    "\n",
    "There are no missing values in the data.\n",
    "\n",
    "The data['datetime'] column has been converted to the datetime data type."
   ]
  },
  {
   "cell_type": "markdown",
   "metadata": {},
   "source": [
    " ### <b>Resampling by One Hour</b>"
   ]
  },
  {
   "cell_type": "code",
   "execution_count": 11,
   "metadata": {},
   "outputs": [
    {
     "data": {
      "text/html": [
       "<div>\n",
       "<style scoped>\n",
       "    .dataframe tbody tr th:only-of-type {\n",
       "        vertical-align: middle;\n",
       "    }\n",
       "\n",
       "    .dataframe tbody tr th {\n",
       "        vertical-align: top;\n",
       "    }\n",
       "\n",
       "    .dataframe thead th {\n",
       "        text-align: right;\n",
       "    }\n",
       "</style>\n",
       "<table border=\"1\" class=\"dataframe\">\n",
       "  <thead>\n",
       "    <tr style=\"text-align: right;\">\n",
       "      <th></th>\n",
       "      <th>num_orders</th>\n",
       "    </tr>\n",
       "    <tr>\n",
       "      <th>datetime</th>\n",
       "      <th></th>\n",
       "    </tr>\n",
       "  </thead>\n",
       "  <tbody>\n",
       "    <tr>\n",
       "      <th>2018-03-01 00:00:00</th>\n",
       "      <td>124</td>\n",
       "    </tr>\n",
       "    <tr>\n",
       "      <th>2018-03-01 01:00:00</th>\n",
       "      <td>85</td>\n",
       "    </tr>\n",
       "    <tr>\n",
       "      <th>2018-03-01 02:00:00</th>\n",
       "      <td>71</td>\n",
       "    </tr>\n",
       "    <tr>\n",
       "      <th>2018-03-01 03:00:00</th>\n",
       "      <td>66</td>\n",
       "    </tr>\n",
       "    <tr>\n",
       "      <th>2018-03-01 04:00:00</th>\n",
       "      <td>43</td>\n",
       "    </tr>\n",
       "    <tr>\n",
       "      <th>...</th>\n",
       "      <td>...</td>\n",
       "    </tr>\n",
       "    <tr>\n",
       "      <th>2018-08-31 19:00:00</th>\n",
       "      <td>136</td>\n",
       "    </tr>\n",
       "    <tr>\n",
       "      <th>2018-08-31 20:00:00</th>\n",
       "      <td>154</td>\n",
       "    </tr>\n",
       "    <tr>\n",
       "      <th>2018-08-31 21:00:00</th>\n",
       "      <td>159</td>\n",
       "    </tr>\n",
       "    <tr>\n",
       "      <th>2018-08-31 22:00:00</th>\n",
       "      <td>223</td>\n",
       "    </tr>\n",
       "    <tr>\n",
       "      <th>2018-08-31 23:00:00</th>\n",
       "      <td>205</td>\n",
       "    </tr>\n",
       "  </tbody>\n",
       "</table>\n",
       "<p>4416 rows × 1 columns</p>\n",
       "</div>"
      ],
      "text/plain": [
       "                     num_orders\n",
       "datetime                       \n",
       "2018-03-01 00:00:00         124\n",
       "2018-03-01 01:00:00          85\n",
       "2018-03-01 02:00:00          71\n",
       "2018-03-01 03:00:00          66\n",
       "2018-03-01 04:00:00          43\n",
       "...                         ...\n",
       "2018-08-31 19:00:00         136\n",
       "2018-08-31 20:00:00         154\n",
       "2018-08-31 21:00:00         159\n",
       "2018-08-31 22:00:00         223\n",
       "2018-08-31 23:00:00         205\n",
       "\n",
       "[4416 rows x 1 columns]"
      ]
     },
     "metadata": {},
     "output_type": "display_data"
    }
   ],
   "source": [
    "taxi = taxi.resample('1H').sum()\n",
    "display(taxi)"
   ]
  },
  {
   "cell_type": "markdown",
   "metadata": {},
   "source": [
    "### Analysis"
   ]
  },
  {
   "cell_type": "code",
   "execution_count": 12,
   "metadata": {},
   "outputs": [
    {
     "data": {
      "image/png": "[encoded data removed]",
      "text/plain": [
       "<Figure size 720x576 with 3 Axes>"
      ]
     },
     "metadata": {
      "needs_background": "light"
     },
     "output_type": "display_data"
    }
   ],
   "source": [
    "decomposed = seasonal_decompose(taxi)\n",
    "\n",
    "plt.figure(figsize=(10,8))\n",
    "plt.subplot(311)\n",
    "decomposed.trend.plot(ax=plt.gca())\n",
    "plt.title('Trend')\n",
    "\n",
    "plt.subplot(312)\n",
    "decomposed.seasonal.plot(ax=plt.gca())\n",
    "plt.title('Seasonality')\n",
    "\n",
    "plt.subplot(313)\n",
    "decomposed.resid.plot(ax=plt.gca())\n",
    "plt.title('Residuals')\n",
    "plt.tight_layout()\n",
    "plt.show()\n"
   ]
  },
  {
   "cell_type": "markdown",
   "metadata": {},
   "source": [
    "The graph shows a significant increasing trend in the number of orders. As for the second graph, it is not clear what it represents. Let's take a closer look at it."
   ]
  },
  {
   "cell_type": "code",
   "execution_count": 19,
   "metadata": {},
   "outputs": [
    {
     "data": {
      "image/png": "[encoded data removed]",
      "text/plain": [
       "<Figure size 720x576 with 1 Axes>"
      ]
     },
     "metadata": {
      "needs_background": "light"
     },
     "output_type": "display_data"
    },
    {
     "data": {
      "image/png": "[encoded data removed]",
      "text/plain": [
       "<Figure size 720x576 with 1 Axes>"
      ]
     },
     "metadata": {
      "needs_background": "light"
     },
     "output_type": "display_data"
    }
   ],
   "source": [
    "plt.figure(figsize=(10,8))\n",
    "rolling_hourly_mean = taxi['num_orders'].rolling(24).mean()\n",
    "rolling_hourly_mean.plot(ax=plt.gca(), label='Hourly Mean', color='blue', linewidth=2)\n",
    "plt.title('Hourly Seasonality over the last 7 days', fontsize=14)\n",
    "plt.xlabel('Date', fontsize=12)\n",
    "plt.ylabel('Number of Orders', fontsize=12)\n",
    "plt.legend(fontsize=12)\n",
    "plt.tick_params(axis='both', labelsize=12)\n",
    "plt.grid(True)\n",
    "plt.show()\n",
    "\n",
    "plt.figure(figsize=(10,8))\n",
    "rolling_weekly_mean = taxi['num_orders'].rolling(24 * 7).mean()\n",
    "rolling_weekly_mean.plot(ax=plt.gca(), label='Weekly Mean', color='red', linewidth=2)\n",
    "plt.title('Weekly Seasonality over the last 7 days', fontsize=14)\n",
    "plt.xlabel('Date', fontsize=12)\n",
    "plt.ylabel('Number of Orders', fontsize=12)\n",
    "plt.legend(fontsize=12)\n",
    "plt.tick_params(axis='both', labelsize=12)\n",
    "plt.grid(True)\n",
    "plt.show()"
   ]
  },
  {
   "cell_type": "markdown",
   "metadata": {},
   "source": [
    "The first graph shows the hourly seasonality over the last 7 days, and the second one shows the weekly seasonality over the last 7 days. Both graphs depict an increase in the number of orders during the day, with a peak during the late afternoon and evening hours, and a decrease during the night. There is also a weekly pattern, with higher demand on weekends."
   ]
  },
  {
   "cell_type": "markdown",
   "metadata": {},
   "source": [
    "Let's compare the graphs for the last and first day."
   ]
  },
  {
   "cell_type": "code",
   "execution_count": 13,
   "metadata": {},
   "outputs": [
    {
     "data": {
      "text/plain": [
       "Timestamp('2018-08-31 23:00:00', freq='H')"
      ]
     },
     "execution_count": 13,
     "metadata": {},
     "output_type": "execute_result"
    }
   ],
   "source": [
    "taxi.index.max()"
   ]
  },
  {
   "cell_type": "code",
   "execution_count": 14,
   "metadata": {},
   "outputs": [
    {
     "data": {
      "image/png": "[encoded data removed]",
      "text/plain": [
       "<Figure size 432x288 with 1 Axes>"
      ]
     },
     "metadata": {
      "needs_background": "light"
     },
     "output_type": "display_data"
    }
   ],
   "source": [
    "decomposed.seasonal['2018-08-31'].plot()\n",
    "plt.show()"
   ]
  },
  {
   "cell_type": "markdown",
   "metadata": {},
   "source": [
    "This graph shows the hourly seasonality component of the time series on August 31st, 2018. From the graph, we can see that there is a clear repeating pattern throughout the day, with peaks in taxi orders occurring during the morning and evening rush hours. There is also a smaller peak in the late afternoon. The number of orders is generally lower during the early morning and midday hours."
   ]
  },
  {
   "cell_type": "code",
   "execution_count": 15,
   "metadata": {},
   "outputs": [
    {
     "data": {
      "text/plain": [
       "Timestamp('2018-03-01 00:00:00', freq='H')"
      ]
     },
     "execution_count": 15,
     "metadata": {},
     "output_type": "execute_result"
    }
   ],
   "source": [
    "taxi.index.min()"
   ]
  },
  {
   "cell_type": "code",
   "execution_count": 16,
   "metadata": {},
   "outputs": [
    {
     "data": {
      "image/png": "[encoded data removed]",
      "text/plain": [
       "<Figure size 432x288 with 1 Axes>"
      ]
     },
     "metadata": {
      "needs_background": "light"
     },
     "output_type": "display_data"
    }
   ],
   "source": [
    "decomposed.seasonal['2018-03-01'].plot()\n",
    "plt.show()"
   ]
  },
  {
   "cell_type": "markdown",
   "metadata": {},
   "source": [
    "From this graph, we can see the hourly seasonality pattern on March 1st, 2018. There is a clear pattern of high demand during the morning and evening rush hours, with lower demand during the mid-day and late-night hours. This suggests that the seasonality pattern is consistent across different days and can be used to make hourly forecasts."
   ]
  },
  {
   "cell_type": "markdown",
   "metadata": {},
   "source": [
    "## Training"
   ]
  },
  {
   "cell_type": "code",
   "execution_count": 20,
   "metadata": {},
   "outputs": [],
   "source": [
    "#Creating time-based features\n",
    "#taxi['year'] = taxi.index.year\n",
    "#taxi['month'] = taxi.index.month\n",
    "#taxi['day'] = taxi.index.day\n",
    "taxi['dayofweek'] = taxi.index.dayofweek\n",
    "taxi['hour'] = taxi.index.hour"
   ]
  },
  {
   "cell_type": "markdown",
   "metadata": {},
   "source": [
    "Year factor: NO, definitely not suitable. We have less than a year's worth of data. Therefore, it will simply be a constant.\n",
    "\n",
    "Month factor: NO, similarly to the year factor, we only have one March, May, etc. in our history. Besides, the forecast horizon is in hours. Therefore, the seasonality of the time of year is already incorporated in the trend.\n",
    "\n",
    "Day factor: NO, also not suitable, it will simply be a sequence of numbers.\n",
    "\n",
    "Day of week factor: YES, as we have weekly seasonality."
   ]
  },
  {
   "cell_type": "raw",
   "metadata": {},
   "source": [
    "def make_features_func(taxi, max_lag, rolling_mean_size):\n",
    "    make_data = taxi.copy()\n",
    "    taxi['dayofweek'] = taxi.index.dayofweek\n",
    "    taxi['hour'] = taxi.index.hour\n",
    "    for lag in range(1, max_lag + 1):\n",
    "        make_data['lag_{}'.format(lag)] = taxi['num_orders'].shift(lag)\n",
    "\n",
    "    make_data['rolling_mean'] = taxi['num_orders'].shift().rolling(rolling_mean_size).mean()\n",
    "    return make_data\n"
   ]
  },
  {
   "cell_type": "code",
   "execution_count": 23,
   "metadata": {},
   "outputs": [],
   "source": [
    "def make_features_func(taxi, max_lag=2, rolling_mean_size=24):\n",
    "    # Create day of week and hour features\n",
    "    taxi['dayofweek'] = taxi.index.dayofweek\n",
    "    taxi['hour'] = taxi.index.hour\n",
    "    \n",
    "    # Create lag features\n",
    "    for lag in range(1, max_lag + 1):\n",
    "        taxi['lag_{}'.format(lag)] = taxi['num_orders'].shift(lag)\n",
    "\n",
    "    # Create rolling mean feature\n",
    "    taxi['rolling_mean'] = taxi['num_orders'].shift().rolling(rolling_mean_size).mean()\n",
    "    \n",
    "    return taxi"
   ]
  },
  {
   "cell_type": "code",
   "execution_count": 24,
   "metadata": {},
   "outputs": [
    {
     "data": {
      "text/html": [
       "<div>\n",
       "<style scoped>\n",
       "    .dataframe tbody tr th:only-of-type {\n",
       "        vertical-align: middle;\n",
       "    }\n",
       "\n",
       "    .dataframe tbody tr th {\n",
       "        vertical-align: top;\n",
       "    }\n",
       "\n",
       "    .dataframe thead th {\n",
       "        text-align: right;\n",
       "    }\n",
       "</style>\n",
       "<table border=\"1\" class=\"dataframe\">\n",
       "  <thead>\n",
       "    <tr style=\"text-align: right;\">\n",
       "      <th></th>\n",
       "      <th>num_orders</th>\n",
       "      <th>dayofweek</th>\n",
       "      <th>hour</th>\n",
       "      <th>lag_1</th>\n",
       "      <th>lag_2</th>\n",
       "      <th>lag_3</th>\n",
       "      <th>lag_4</th>\n",
       "      <th>lag_5</th>\n",
       "      <th>rolling_mean</th>\n",
       "    </tr>\n",
       "    <tr>\n",
       "      <th>datetime</th>\n",
       "      <th></th>\n",
       "      <th></th>\n",
       "      <th></th>\n",
       "      <th></th>\n",
       "      <th></th>\n",
       "      <th></th>\n",
       "      <th></th>\n",
       "      <th></th>\n",
       "      <th></th>\n",
       "    </tr>\n",
       "  </thead>\n",
       "  <tbody>\n",
       "    <tr>\n",
       "      <th>2018-03-01 00:00:00</th>\n",
       "      <td>124</td>\n",
       "      <td>3</td>\n",
       "      <td>0</td>\n",
       "      <td>NaN</td>\n",
       "      <td>NaN</td>\n",
       "      <td>NaN</td>\n",
       "      <td>NaN</td>\n",
       "      <td>NaN</td>\n",
       "      <td>NaN</td>\n",
       "    </tr>\n",
       "    <tr>\n",
       "      <th>2018-03-01 01:00:00</th>\n",
       "      <td>85</td>\n",
       "      <td>3</td>\n",
       "      <td>1</td>\n",
       "      <td>124.0</td>\n",
       "      <td>NaN</td>\n",
       "      <td>NaN</td>\n",
       "      <td>NaN</td>\n",
       "      <td>NaN</td>\n",
       "      <td>NaN</td>\n",
       "    </tr>\n",
       "    <tr>\n",
       "      <th>2018-03-01 02:00:00</th>\n",
       "      <td>71</td>\n",
       "      <td>3</td>\n",
       "      <td>2</td>\n",
       "      <td>85.0</td>\n",
       "      <td>124.0</td>\n",
       "      <td>NaN</td>\n",
       "      <td>NaN</td>\n",
       "      <td>NaN</td>\n",
       "      <td>NaN</td>\n",
       "    </tr>\n",
       "    <tr>\n",
       "      <th>2018-03-01 03:00:00</th>\n",
       "      <td>66</td>\n",
       "      <td>3</td>\n",
       "      <td>3</td>\n",
       "      <td>71.0</td>\n",
       "      <td>85.0</td>\n",
       "      <td>124.0</td>\n",
       "      <td>NaN</td>\n",
       "      <td>NaN</td>\n",
       "      <td>NaN</td>\n",
       "    </tr>\n",
       "    <tr>\n",
       "      <th>2018-03-01 04:00:00</th>\n",
       "      <td>43</td>\n",
       "      <td>3</td>\n",
       "      <td>4</td>\n",
       "      <td>66.0</td>\n",
       "      <td>71.0</td>\n",
       "      <td>85.0</td>\n",
       "      <td>124.0</td>\n",
       "      <td>NaN</td>\n",
       "      <td>NaN</td>\n",
       "    </tr>\n",
       "    <tr>\n",
       "      <th>2018-03-01 05:00:00</th>\n",
       "      <td>6</td>\n",
       "      <td>3</td>\n",
       "      <td>5</td>\n",
       "      <td>43.0</td>\n",
       "      <td>66.0</td>\n",
       "      <td>71.0</td>\n",
       "      <td>85.0</td>\n",
       "      <td>124.0</td>\n",
       "      <td>NaN</td>\n",
       "    </tr>\n",
       "    <tr>\n",
       "      <th>2018-03-01 06:00:00</th>\n",
       "      <td>12</td>\n",
       "      <td>3</td>\n",
       "      <td>6</td>\n",
       "      <td>6.0</td>\n",
       "      <td>43.0</td>\n",
       "      <td>66.0</td>\n",
       "      <td>71.0</td>\n",
       "      <td>85.0</td>\n",
       "      <td>65.833333</td>\n",
       "    </tr>\n",
       "    <tr>\n",
       "      <th>2018-03-01 07:00:00</th>\n",
       "      <td>15</td>\n",
       "      <td>3</td>\n",
       "      <td>7</td>\n",
       "      <td>12.0</td>\n",
       "      <td>6.0</td>\n",
       "      <td>43.0</td>\n",
       "      <td>66.0</td>\n",
       "      <td>71.0</td>\n",
       "      <td>47.166667</td>\n",
       "    </tr>\n",
       "    <tr>\n",
       "      <th>2018-03-01 08:00:00</th>\n",
       "      <td>34</td>\n",
       "      <td>3</td>\n",
       "      <td>8</td>\n",
       "      <td>15.0</td>\n",
       "      <td>12.0</td>\n",
       "      <td>6.0</td>\n",
       "      <td>43.0</td>\n",
       "      <td>66.0</td>\n",
       "      <td>35.500000</td>\n",
       "    </tr>\n",
       "    <tr>\n",
       "      <th>2018-03-01 09:00:00</th>\n",
       "      <td>69</td>\n",
       "      <td>3</td>\n",
       "      <td>9</td>\n",
       "      <td>34.0</td>\n",
       "      <td>15.0</td>\n",
       "      <td>12.0</td>\n",
       "      <td>6.0</td>\n",
       "      <td>43.0</td>\n",
       "      <td>29.333333</td>\n",
       "    </tr>\n",
       "  </tbody>\n",
       "</table>\n",
       "</div>"
      ],
      "text/plain": [
       "                     num_orders  dayofweek  hour  lag_1  lag_2  lag_3  lag_4  \\\n",
       "datetime                                                                       \n",
       "2018-03-01 00:00:00         124          3     0    NaN    NaN    NaN    NaN   \n",
       "2018-03-01 01:00:00          85          3     1  124.0    NaN    NaN    NaN   \n",
       "2018-03-01 02:00:00          71          3     2   85.0  124.0    NaN    NaN   \n",
       "2018-03-01 03:00:00          66          3     3   71.0   85.0  124.0    NaN   \n",
       "2018-03-01 04:00:00          43          3     4   66.0   71.0   85.0  124.0   \n",
       "2018-03-01 05:00:00           6          3     5   43.0   66.0   71.0   85.0   \n",
       "2018-03-01 06:00:00          12          3     6    6.0   43.0   66.0   71.0   \n",
       "2018-03-01 07:00:00          15          3     7   12.0    6.0   43.0   66.0   \n",
       "2018-03-01 08:00:00          34          3     8   15.0   12.0    6.0   43.0   \n",
       "2018-03-01 09:00:00          69          3     9   34.0   15.0   12.0    6.0   \n",
       "\n",
       "                     lag_5  rolling_mean  \n",
       "datetime                                  \n",
       "2018-03-01 00:00:00    NaN           NaN  \n",
       "2018-03-01 01:00:00    NaN           NaN  \n",
       "2018-03-01 02:00:00    NaN           NaN  \n",
       "2018-03-01 03:00:00    NaN           NaN  \n",
       "2018-03-01 04:00:00    NaN           NaN  \n",
       "2018-03-01 05:00:00  124.0           NaN  \n",
       "2018-03-01 06:00:00   85.0     65.833333  \n",
       "2018-03-01 07:00:00   71.0     47.166667  \n",
       "2018-03-01 08:00:00   66.0     35.500000  \n",
       "2018-03-01 09:00:00   43.0     29.333333  "
      ]
     },
     "execution_count": 24,
     "metadata": {},
     "output_type": "execute_result"
    }
   ],
   "source": [
    "taxi_new = make_features_func(taxi,5,6)\n",
    "taxi_new.head(10)"
   ]
  },
  {
   "cell_type": "code",
   "execution_count": 25,
   "metadata": {},
   "outputs": [
    {
     "name": "stdout",
     "output_type": "stream",
     "text": [
      "Size of the training set:  (3974, 9)\n",
      "Size of the test set:  (442, 9)\n",
      "Size of the training set after removing rows with missing values:  (3968, 9)\n"
     ]
    }
   ],
   "source": [
    "#split the data into training and testing sets,\n",
    "train, test = train_test_split(taxi_new, test_size=0.1, shuffle=False, random_state = 123)\n",
    "#valid,test = train_test_split(test_taxi,shuffle = False, random_state = 12345, test_size = 0.5)\n",
    "print('Size of the training set: ', train.shape)\n",
    "print('Size of the test set: ', test.shape)\n",
    "\n",
    "train = train.dropna()\n",
    "print('Size of the training set after removing rows with missing values: ', train.shape)"
   ]
  },
  {
   "cell_type": "code",
   "execution_count": 26,
   "metadata": {},
   "outputs": [
    {
     "name": "stdout",
     "output_type": "stream",
     "text": [
      "Size of the training feature table: (3968, 8)\n",
      "Size of the testing feature table: (442, 8)\n"
     ]
    }
   ],
   "source": [
    "target_train = train['num_orders']\n",
    "features_train = train.drop('num_orders', axis=1)\n",
    "\n",
    "target_test = test['num_orders']\n",
    "features_test = test.drop('num_orders', axis=1)\n",
    "\n",
    "#features_valid = valid.drop('num_orders', axis=1)\n",
    "#target_valid = valid['num_orders']\n",
    "\n",
    "print('Size of the training feature table:', features_train.shape)\n",
    "print('Size of the testing feature table:', features_test.shape)\n",
    "#print('Size of the validation feature table:', features_valid.shape)"
   ]
  },
  {
   "cell_type": "markdown",
   "metadata": {},
   "source": [
    "Splited the data into training and test sets and print their sizes. Remove rows with missing values from the training set. Print the sizes of the feature tables for the training and test sets"
   ]
  },
  {
   "cell_type": "markdown",
   "metadata": {},
   "source": [
    "## Training"
   ]
  },
  {
   "cell_type": "markdown",
   "metadata": {},
   "source": [
    "Will train different models with various hyperparameters."
   ]
  },
  {
   "cell_type": "code",
   "execution_count": 27,
   "metadata": {},
   "outputs": [],
   "source": [
    "tssplit = TimeSeriesSplit(n_splits=3)"
   ]
  },
  {
   "cell_type": "markdown",
   "metadata": {},
   "source": [
    "<b>Mодель LinearRegression</b>"
   ]
  },
  {
   "cell_type": "code",
   "execution_count": 28,
   "metadata": {},
   "outputs": [
    {
     "name": "stdout",
     "output_type": "stream",
     "text": [
      "RMSE LinearRegression:  32 orders\n"
     ]
    }
   ],
   "source": [
    "model = LinearRegression()\n",
    "model.fit(features_train, target_train) \n",
    "predicted_train = model.predict(features_train) \n",
    "\n",
    "\n",
    "\n",
    "rmse_LinearRegression = mean_squared_error(target_train, predicted_train) ** 0.5\n",
    "\n",
    "\n",
    "print('RMSE LinearRegression: ', round(rmse_LinearRegression), 'orders')"
   ]
  },
  {
   "cell_type": "markdown",
   "metadata": {},
   "source": [
    "The RMSE value of the Linear Regression model on the training set is 32 orders, which means that the average deviation of the predicted number of orders from the actual number of orders is 32. "
   ]
  },
  {
   "cell_type": "markdown",
   "metadata": {},
   "source": [
    "<b>Mодель RandomForestRegressor</b>"
   ]
  },
  {
   "cell_type": "code",
   "execution_count": 60,
   "metadata": {},
   "outputs": [
    {
     "name": "stdout",
     "output_type": "stream",
     "text": [
      "Fitting 3 folds for each of 6 candidates, totalling 18 fits\n",
      "RMSE RandomForestRegressor:  -28.88 orders\n"
     ]
    }
   ],
   "source": [
    "RF = RandomForestRegressor()\n",
    "\n",
    "parametrs = {\"max_depth\": [1,10],\"n_estimators\":[100,150,10]}\n",
    "\n",
    "\n",
    "#RF_grid = GridSearchCV(RF,parametrs,cv = splits,verbose=True,n_jobs=-1)\n",
    "\n",
    "RF_grid = GridSearchCV(RF,parametrs,cv = tssplit,verbose=True,n_jobs=-1,  scoring='neg_root_mean_squared_error')\n",
    "RF_grid.fit(features_train,target_train)\n",
    "#target_predict = RF_grid.predict(features_valid)\n",
    "#rmse_rf = mean_squared_error(target_valid, target_predict) ** 0.5\n",
    "rmse_rf = RF_grid.best_score_ \n",
    "print('RMSE RandomForestRegressor: ', round(rmse_rf, 2), 'orders')"
   ]
  },
  {
   "cell_type": "markdown",
   "metadata": {},
   "source": [
    "model_LGBMR = LGBMRegressor()\n",
    "\n",
    "search_lgbm = {\n",
    "    'max_depth': [5, 10, 15, 25, 35, 45, 55],\n",
    "    'learning_rate': [0.01, 0.1, 0.15]\n",
    "}\n",
    "\n",
    "\n",
    "gs_lgbm = GridSearchCV(model_LGBMR,search_lgbm,cv = tssplit,verbose=2,n_jobs=-1,  scoring='neg_root_mean_squared_error')\n",
    "\n",
    "gs_lgbm.fit(features_train,target_train)\n",
    "\n",
    "rmse_lgbm = gs_lgbm.best_score_ \n",
    "print('RMSE LGBMRegressor: ', round(rmse_lgbm), 'orders')"
   ]
  },
  {
   "cell_type": "code",
   "execution_count": 61,
   "metadata": {},
   "outputs": [
    {
     "name": "stdout",
     "output_type": "stream",
     "text": [
      "Best RMSE score:  -28.25\n",
      "Best hyperparameters:  {'subsample': 0.7, 'reg_lambda': 0.1, 'reg_alpha': 0.1, 'random_state': 42, 'n_estimators': 100, 'max_depth': 10, 'learning_rate': 0.05, 'colsample_bytree': 0.7}\n"
     ]
    }
   ],
   "source": [
    "from sklearn.model_selection import RandomizedSearchCV\n",
    "model_LGBMR = LGBMRegressor()\n",
    "\n",
    "param_grid = {\n",
    "    'max_depth': [5, 10, 15, 20, 25],\n",
    "    'learning_rate': [0.01, 0.05, 0.1, 0.15],\n",
    "    'n_estimators': [50, 100, 150, 200],\n",
    "    'reg_alpha': [0.0, 0.1, 0.5, 1.0],\n",
    "    'reg_lambda': [0.0, 0.1, 0.5, 1.0],\n",
    "    'subsample': [0.5, 0.7, 0.9],\n",
    "    'colsample_bytree': [0.5, 0.7, 0.9],\n",
    "    'random_state': [42]\n",
    "}\n",
    "\n",
    "rs = RandomizedSearchCV(estimator=model_LGBMR, param_distributions=param_grid, n_iter=10, cv=tssplit, scoring='neg_root_mean_squared_error')\n",
    "\n",
    "\n",
    "rs.fit(features_train, target_train)\n",
    "\n",
    "print('Best RMSE score: ', round(rs.best_score_, 2))\n",
    "print('Best hyperparameters: ', rs.best_params_)"
   ]
  },
  {
   "cell_type": "markdown",
   "metadata": {},
   "source": [
    "<b>Let's compare our models with a simple one. We will use the DummyRegressor</b>"
   ]
  },
  {
   "cell_type": "code",
   "execution_count": 62,
   "metadata": {},
   "outputs": [
    {
     "name": "stdout",
     "output_type": "stream",
     "text": [
      "RMSE Dummy:  43 orders\n"
     ]
    }
   ],
   "source": [
    "dummy = DummyRegressor(strategy='mean')\n",
    "\n",
    "rmse_dummy = -cross_val_score(dummy, features_train, target_train, cv=tssplit, scoring='neg_root_mean_squared_error').mean()\n",
    "print('RMSE Dummy: ', round(rmse_dummy), 'orders')"
   ]
  },
  {
   "cell_type": "code",
   "execution_count": 64,
   "metadata": {},
   "outputs": [
    {
     "data": {
      "text/html": [
       "<style type=\"text/css\">\n",
       "#T_80e9f th {\n",
       "  background-color: #f2f2f2;\n",
       "  font-weight: bold;\n",
       "}\n",
       "#T_80e9f tr:nth-child(odd) {\n",
       "  background-color: #f9f9f9;\n",
       "}\n",
       "#T_80e9f tr:nth-child(even) {\n",
       "  background-color: #ffffff;\n",
       "}\n",
       "#T_80e9f_row0_col0, #T_80e9f_row1_col0, #T_80e9f_row2_col0, #T_80e9f_row3_col0 {\n",
       "  text-align: center;\n",
       "}\n",
       "</style>\n",
       "<table id=\"T_80e9f\">\n",
       "  <caption>Root Mean Squared Error (RMSE) for Each Model</caption>\n",
       "  <thead>\n",
       "    <tr>\n",
       "      <th class=\"blank level0\" >&nbsp;</th>\n",
       "      <th id=\"T_80e9f_level0_col0\" class=\"col_heading level0 col0\" >RMSE, orders</th>\n",
       "    </tr>\n",
       "    <tr>\n",
       "      <th class=\"index_name level0\" >Model</th>\n",
       "      <th class=\"blank col0\" >&nbsp;</th>\n",
       "    </tr>\n",
       "  </thead>\n",
       "  <tbody>\n",
       "    <tr>\n",
       "      <th id=\"T_80e9f_level0_row0\" class=\"row_heading level0 row0\" >Linear Regression</th>\n",
       "      <td id=\"T_80e9f_row0_col0\" class=\"data row0 col0\" >31.597648</td>\n",
       "    </tr>\n",
       "    <tr>\n",
       "      <th id=\"T_80e9f_level0_row1\" class=\"row_heading level0 row1\" >Random Forest</th>\n",
       "      <td id=\"T_80e9f_row1_col0\" class=\"data row1 col0\" >-28.880887</td>\n",
       "    </tr>\n",
       "    <tr>\n",
       "      <th id=\"T_80e9f_level0_row2\" class=\"row_heading level0 row2\" >LGBM</th>\n",
       "      <td id=\"T_80e9f_row2_col0\" class=\"data row2 col0\" >-28.575956</td>\n",
       "    </tr>\n",
       "    <tr>\n",
       "      <th id=\"T_80e9f_level0_row3\" class=\"row_heading level0 row3\" >Dummy</th>\n",
       "      <td id=\"T_80e9f_row3_col0\" class=\"data row3 col0\" >42.605938</td>\n",
       "    </tr>\n",
       "  </tbody>\n",
       "</table>\n"
      ],
      "text/plain": [
       "<pandas.io.formats.style.Styler at 0x1ddc45023d0>"
      ]
     },
     "execution_count": 64,
     "metadata": {},
     "output_type": "execute_result"
    }
   ],
   "source": [
    "data = {'RMSE, orders': [rmse_LinearRegression, rmse_rf, rmse_lgbm, rmse_dummy]}\n",
    "table = pd.DataFrame(data, index=['Linear Regression', 'Random Forest', 'LGBM', 'Dummy'])\n",
    "table.index.name = 'Model'\n",
    "table.style.set_caption('Root Mean Squared Error (RMSE) for Each Model').set_table_styles(\n",
    "[{'selector': 'caption',  'props': [('font-size', '18px'), ('text-align', 'center'), ('font-weight', 'bold'), ('padding-bottom', '10px')]}]\n",
    ").set_properties(**{'text-align': 'center'}).set_table_styles(\n",
    "[{'selector': 'th', 'props': [('background-color', '#f2f2f2'), ('font-weight', 'bold')]},\n",
    " {'selector': 'tr:nth-child(odd)', 'props': [('background-color', '#f9f9f9')]},\n",
    " {'selector': 'tr:nth-child(even)', 'props': [('background-color', '#ffffff')]}])"
   ]
  },
  {
   "cell_type": "markdown",
   "metadata": {},
   "source": [
    "We can see that the LGBMRegressor model has the lowest RMSE value of -27, followed by the RandomForestRegressor model with -29 RMSE value, LinearRegression model with 32 RMSE value, and the DummyRegressor model with 43 RMSE value."
   ]
  },
  {
   "cell_type": "code",
   "execution_count": 52,
   "metadata": {},
   "outputs": [],
   "source": [
    "##function for calculating RMSE on a test set\n",
    "def rmse_test(model):\n",
    "    \n",
    "    model.fit(features_train, target_train)   \n",
    "    test_pred = model.predict(features_test)\n",
    "    rmse_test = np.sqrt(mean_squared_error(target_test, test_pred))\n",
    "    \n",
    "    return rmse_test"
   ]
  },
  {
   "cell_type": "markdown",
   "metadata": {},
   "source": [
    "<b>Will test the models on the test set</b>"
   ]
  },
  {
   "cell_type": "code",
   "execution_count": 56,
   "metadata": {},
   "outputs": [
    {
     "name": "stdout",
     "output_type": "stream",
     "text": [
      "Fitting 3 folds for each of 21 candidates, totalling 63 fits\n",
      "RMSE LGBMRegressor on the test set:  47.98 orders\n"
     ]
    }
   ],
   "source": [
    "rmse_lgbm_test = rmse_test(gs_lgbm)\n",
    "print('RMSE LGBMRegressor on the test set: ', round(rmse_lgbm_test, 2), 'orders')"
   ]
  },
  {
   "cell_type": "markdown",
   "metadata": {},
   "source": [
    "In the table, we can see that the LGBMRegressor model had the lowest RMSE error according to the conditions."
   ]
  },
  {
   "cell_type": "code",
   "execution_count": 57,
   "metadata": {},
   "outputs": [],
   "source": [
    "test_pred = model.predict(features_test)"
   ]
  },
  {
   "cell_type": "code",
   "execution_count": 59,
   "metadata": {},
   "outputs": [
    {
     "data": {
      "image/png": "[encoded data removed]",
      "text/plain": [
       "<Figure size 1440x576 with 1 Axes>"
      ]
     },
     "metadata": {
      "needs_background": "light"
     },
     "output_type": "display_data"
    }
   ],
   "source": [
    "plt.figure(figsize=(20, 8))\n",
    "plt.plot(target_test.index, target_test, 'b-', label='Actual Values')\n",
    "plt.plot(target_test.index, test_pred, 'r-', label='Predictions')\n",
    "\n",
    "\n",
    "plt.title('Model Results')\n",
    "plt.xlabel('Date and Time')\n",
    "plt.ylabel('Orders')\n",
    "\n",
    "\n",
    "plt.legend()\n",
    "plt.show()"
   ]
  },
  {
   "cell_type": "markdown",
   "metadata": {},
   "source": [
    "Based on the graph, it appears that the LGBMRegressor model's predictions are quite close to the actual values of the target variable. This indicates that the model has been successful in capturing the patterns and trends in the data. Therefore, we can conclude that the LGBMRegressor model is a suitable choice for predicting the number of orders for the given restaurant."
   ]
  },
  {
   "cell_type": "markdown",
   "metadata": {},
   "source": [
    "\n",
    "In conclusion, we have applied time series analysis and machine learning techniques to predict the number of orders for a restaurant. We started by performing exploratory data analysis to understand the patterns and trends in the data. Then we used time series decomposition and seasonal ARIMA models to forecast the number of orders. Finally, we implemented machine learning algorithms such as Linear Regression, Random Forest, and LGBMRegressor to predict the target variable.\n",
    "\n",
    "Out of these models, LGBMRegressor was found to be the best model with the lowest RMSE value(47,98). Therefore, it is recommended that the restaurant use this model to predict future orders. However, it is important to note that the model's performance can be further improved by incorporating additional features such as weather data, holidays, and promotions."
   ]
  }
 ],
 "metadata": {
  "ExecuteTimeLog": [
   {
    "duration": 449,
    "start_time": "2022-11-06T18:49:47.844Z"
   },
   {
    "duration": 176,
    "start_time": "2022-11-06T18:54:57.957Z"
   },
   {
    "duration": 74,
    "start_time": "2022-11-06T18:55:25.550Z"
   },
   {
    "duration": 15,
    "start_time": "2022-11-06T18:56:56.942Z"
   },
   {
    "duration": 43,
    "start_time": "2022-11-06T18:57:40.352Z"
   },
   {
    "duration": 10,
    "start_time": "2022-11-06T18:57:42.210Z"
   },
   {
    "duration": 51,
    "start_time": "2022-11-06T18:58:15.213Z"
   },
   {
    "duration": 52,
    "start_time": "2022-11-06T18:58:45.680Z"
   },
   {
    "duration": 47,
    "start_time": "2022-11-06T18:58:54.974Z"
   },
   {
    "duration": 47,
    "start_time": "2022-11-06T18:59:17.577Z"
   },
   {
    "duration": 11,
    "start_time": "2022-11-06T18:59:42.138Z"
   },
   {
    "duration": 22,
    "start_time": "2022-11-06T19:00:25.414Z"
   },
   {
    "duration": 22,
    "start_time": "2022-11-06T19:00:32.041Z"
   },
   {
    "duration": 5,
    "start_time": "2022-11-06T19:01:35.823Z"
   },
   {
    "duration": 28,
    "start_time": "2022-11-06T19:06:01.836Z"
   },
   {
    "duration": 46,
    "start_time": "2022-11-06T19:06:50.261Z"
   },
   {
    "duration": 21,
    "start_time": "2022-11-06T19:06:50.956Z"
   },
   {
    "duration": 15,
    "start_time": "2022-11-06T19:06:54.324Z"
   },
   {
    "duration": 8,
    "start_time": "2022-11-06T19:07:23.376Z"
   },
   {
    "duration": 19,
    "start_time": "2022-11-06T19:07:32.169Z"
   },
   {
    "duration": 4,
    "start_time": "2022-11-06T19:07:35.580Z"
   },
   {
    "duration": 11,
    "start_time": "2022-11-06T19:07:37.070Z"
   },
   {
    "duration": 1192,
    "start_time": "2022-11-06T19:08:28.680Z"
   },
   {
    "duration": 1271,
    "start_time": "2022-11-06T19:09:30.349Z"
   },
   {
    "duration": 3,
    "start_time": "2022-11-06T19:09:43.633Z"
   },
   {
    "duration": 3,
    "start_time": "2022-11-06T19:09:52.560Z"
   },
   {
    "duration": 44,
    "start_time": "2022-11-06T19:09:53.057Z"
   },
   {
    "duration": 21,
    "start_time": "2022-11-06T19:09:53.466Z"
   },
   {
    "duration": 14,
    "start_time": "2022-11-06T19:09:53.976Z"
   },
   {
    "duration": 15,
    "start_time": "2022-11-06T19:09:54.400Z"
   },
   {
    "duration": 82,
    "start_time": "2022-11-06T19:10:03.525Z"
   },
   {
    "duration": 20,
    "start_time": "2022-11-06T19:10:05.674Z"
   },
   {
    "duration": 4,
    "start_time": "2022-11-06T19:10:08.632Z"
   },
   {
    "duration": 15,
    "start_time": "2022-11-06T19:10:10.175Z"
   },
   {
    "duration": 10,
    "start_time": "2022-11-06T19:12:13.577Z"
   },
   {
    "duration": 9,
    "start_time": "2022-11-06T19:12:26.282Z"
   },
   {
    "duration": 7,
    "start_time": "2022-11-06T19:13:10.773Z"
   },
   {
    "duration": 10,
    "start_time": "2022-11-06T19:13:11.619Z"
   },
   {
    "duration": 13,
    "start_time": "2022-11-06T19:14:11.572Z"
   },
   {
    "duration": 413,
    "start_time": "2022-11-06T19:14:41.213Z"
   },
   {
    "duration": 48,
    "start_time": "2022-11-06T19:14:42.148Z"
   },
   {
    "duration": 21,
    "start_time": "2022-11-06T19:14:42.403Z"
   },
   {
    "duration": 14,
    "start_time": "2022-11-06T19:14:42.931Z"
   },
   {
    "duration": 20,
    "start_time": "2022-11-06T19:14:43.163Z"
   },
   {
    "duration": 13,
    "start_time": "2022-11-06T19:14:43.372Z"
   },
   {
    "duration": 4,
    "start_time": "2022-11-06T19:14:43.954Z"
   },
   {
    "duration": 14,
    "start_time": "2022-11-06T19:14:45.104Z"
   },
   {
    "duration": 9,
    "start_time": "2022-11-06T19:14:45.976Z"
   },
   {
    "duration": 10,
    "start_time": "2022-11-06T19:14:46.384Z"
   },
   {
    "duration": 20,
    "start_time": "2022-11-06T19:14:46.864Z"
   },
   {
    "duration": 519,
    "start_time": "2022-11-06T19:15:15.645Z"
   },
   {
    "duration": 48,
    "start_time": "2022-11-06T19:15:16.780Z"
   },
   {
    "duration": 22,
    "start_time": "2022-11-06T19:15:17.003Z"
   },
   {
    "duration": 11,
    "start_time": "2022-11-06T19:15:17.196Z"
   },
   {
    "duration": 23,
    "start_time": "2022-11-06T19:15:17.403Z"
   },
   {
    "duration": 14,
    "start_time": "2022-11-06T19:15:17.609Z"
   },
   {
    "duration": 4,
    "start_time": "2022-11-06T19:15:17.810Z"
   },
   {
    "duration": 14,
    "start_time": "2022-11-06T19:15:18.825Z"
   },
   {
    "duration": 10,
    "start_time": "2022-11-06T19:15:20.015Z"
   },
   {
    "duration": 10,
    "start_time": "2022-11-06T19:15:20.447Z"
   },
   {
    "duration": 57,
    "start_time": "2022-11-06T19:15:21.010Z"
   },
   {
    "duration": 3,
    "start_time": "2022-11-06T19:16:38.758Z"
   },
   {
    "duration": 44,
    "start_time": "2022-11-06T19:16:46.412Z"
   },
   {
    "duration": 22,
    "start_time": "2022-11-06T19:16:46.833Z"
   },
   {
    "duration": 13,
    "start_time": "2022-11-06T19:16:47.193Z"
   },
   {
    "duration": 18,
    "start_time": "2022-11-06T19:16:47.432Z"
   },
   {
    "duration": 15,
    "start_time": "2022-11-06T19:16:47.649Z"
   },
   {
    "duration": 4,
    "start_time": "2022-11-06T19:16:48.058Z"
   },
   {
    "duration": 13,
    "start_time": "2022-11-06T19:16:48.890Z"
   },
   {
    "duration": 9,
    "start_time": "2022-11-06T19:16:49.696Z"
   },
   {
    "duration": 13,
    "start_time": "2022-11-06T19:16:50.111Z"
   },
   {
    "duration": 21,
    "start_time": "2022-11-06T19:16:50.481Z"
   },
   {
    "duration": 14,
    "start_time": "2022-11-06T19:17:46.695Z"
   },
   {
    "duration": 23,
    "start_time": "2022-11-06T19:17:47.599Z"
   },
   {
    "duration": 4,
    "start_time": "2022-11-06T19:18:05.783Z"
   },
   {
    "duration": 45,
    "start_time": "2022-11-06T19:18:07.871Z"
   },
   {
    "duration": 19,
    "start_time": "2022-11-06T19:18:08.440Z"
   },
   {
    "duration": 13,
    "start_time": "2022-11-06T19:18:08.981Z"
   },
   {
    "duration": 19,
    "start_time": "2022-11-06T19:18:09.357Z"
   },
   {
    "duration": 16,
    "start_time": "2022-11-06T19:18:09.746Z"
   },
   {
    "duration": 5,
    "start_time": "2022-11-06T19:18:10.141Z"
   },
   {
    "duration": 17,
    "start_time": "2022-11-06T19:18:11.440Z"
   },
   {
    "duration": 10,
    "start_time": "2022-11-06T19:18:12.869Z"
   },
   {
    "duration": 1052,
    "start_time": "2022-11-06T19:18:13.348Z"
   },
   {
    "duration": 868,
    "start_time": "2022-11-06T19:19:39.596Z"
   },
   {
    "duration": 821,
    "start_time": "2022-11-06T19:19:50.022Z"
   },
   {
    "duration": 681,
    "start_time": "2022-11-06T19:20:14.069Z"
   },
   {
    "duration": 589,
    "start_time": "2022-11-06T19:20:29.046Z"
   },
   {
    "duration": 72,
    "start_time": "2022-11-06T19:22:13.366Z"
   },
   {
    "duration": 269,
    "start_time": "2022-11-06T19:22:19.417Z"
   },
   {
    "duration": 28,
    "start_time": "2022-11-06T19:22:52.763Z"
   },
   {
    "duration": 785,
    "start_time": "2022-11-06T19:23:08.606Z"
   },
   {
    "duration": 915,
    "start_time": "2022-11-06T19:23:55.001Z"
   },
   {
    "duration": 27,
    "start_time": "2022-11-06T19:25:12.756Z"
   },
   {
    "duration": 2,
    "start_time": "2022-11-06T19:25:18.591Z"
   },
   {
    "duration": 46,
    "start_time": "2022-11-06T19:25:19.238Z"
   },
   {
    "duration": 21,
    "start_time": "2022-11-06T19:25:19.752Z"
   },
   {
    "duration": 17,
    "start_time": "2022-11-06T19:25:20.263Z"
   },
   {
    "duration": 18,
    "start_time": "2022-11-06T19:25:20.599Z"
   },
   {
    "duration": 14,
    "start_time": "2022-11-06T19:25:21.000Z"
   },
   {
    "duration": 4,
    "start_time": "2022-11-06T19:25:21.397Z"
   },
   {
    "duration": 16,
    "start_time": "2022-11-06T19:25:22.494Z"
   },
   {
    "duration": 819,
    "start_time": "2022-11-06T19:25:23.293Z"
   },
   {
    "duration": 4,
    "start_time": "2022-11-06T19:27:38.988Z"
   },
   {
    "duration": 148,
    "start_time": "2022-11-06T19:28:18.781Z"
   },
   {
    "duration": 5,
    "start_time": "2022-11-06T19:30:12.537Z"
   },
   {
    "duration": 144,
    "start_time": "2022-11-06T19:30:37.224Z"
   },
   {
    "duration": 5,
    "start_time": "2022-11-06T19:31:55.924Z"
   },
   {
    "duration": 150,
    "start_time": "2022-11-06T19:31:56.443Z"
   },
   {
    "duration": 67,
    "start_time": "2022-11-06T19:32:33.588Z"
   },
   {
    "duration": 10,
    "start_time": "2022-11-06T19:33:02.410Z"
   },
   {
    "duration": 6,
    "start_time": "2022-11-06T19:35:48.879Z"
   },
   {
    "duration": 10,
    "start_time": "2022-11-06T19:36:49.429Z"
   },
   {
    "duration": 22,
    "start_time": "2022-11-06T19:37:24.020Z"
   },
   {
    "duration": 11,
    "start_time": "2022-11-06T19:39:59.344Z"
   },
   {
    "duration": 527,
    "start_time": "2022-11-06T19:40:31.710Z"
   },
   {
    "duration": 50,
    "start_time": "2022-11-06T19:40:36.588Z"
   },
   {
    "duration": 25,
    "start_time": "2022-11-06T19:40:37.012Z"
   },
   {
    "duration": 22,
    "start_time": "2022-11-06T19:40:37.409Z"
   },
   {
    "duration": 19,
    "start_time": "2022-11-06T19:40:37.665Z"
   },
   {
    "duration": 14,
    "start_time": "2022-11-06T19:40:37.905Z"
   },
   {
    "duration": 4,
    "start_time": "2022-11-06T19:40:38.448Z"
   },
   {
    "duration": 14,
    "start_time": "2022-11-06T19:40:39.751Z"
   },
   {
    "duration": 767,
    "start_time": "2022-11-06T19:40:40.640Z"
   },
   {
    "duration": 5,
    "start_time": "2022-11-06T19:40:43.135Z"
   },
   {
    "duration": 167,
    "start_time": "2022-11-06T19:40:43.391Z"
   },
   {
    "duration": 4,
    "start_time": "2022-11-06T19:40:44.239Z"
   },
   {
    "duration": 164,
    "start_time": "2022-11-06T19:40:44.667Z"
   },
   {
    "duration": 8,
    "start_time": "2022-11-06T19:40:46.069Z"
   },
   {
    "duration": 5,
    "start_time": "2022-11-06T19:40:46.536Z"
   },
   {
    "duration": 22,
    "start_time": "2022-11-06T19:40:46.950Z"
   },
   {
    "duration": 6,
    "start_time": "2022-11-06T19:40:47.445Z"
   },
   {
    "duration": 7,
    "start_time": "2022-11-06T19:42:16.269Z"
   },
   {
    "duration": 4,
    "start_time": "2022-11-06T19:42:16.575Z"
   },
   {
    "duration": 7,
    "start_time": "2022-11-06T19:42:21.940Z"
   },
   {
    "duration": 9,
    "start_time": "2022-11-06T19:42:51.277Z"
   },
   {
    "duration": 11,
    "start_time": "2022-11-06T19:44:27.753Z"
   },
   {
    "duration": 9,
    "start_time": "2022-11-06T19:44:46.328Z"
   },
   {
    "duration": 4,
    "start_time": "2022-11-06T19:46:17.319Z"
   },
   {
    "duration": 26,
    "start_time": "2022-11-06T19:50:16.774Z"
   },
   {
    "duration": 4,
    "start_time": "2022-11-06T19:50:24.092Z"
   },
   {
    "duration": 12,
    "start_time": "2022-11-06T19:51:26.097Z"
   },
   {
    "duration": 5,
    "start_time": "2022-11-06T19:55:22.837Z"
   },
   {
    "duration": 44,
    "start_time": "2022-11-06T19:55:24.853Z"
   },
   {
    "duration": 25,
    "start_time": "2022-11-06T19:55:25.194Z"
   },
   {
    "duration": 20,
    "start_time": "2022-11-06T19:55:25.385Z"
   },
   {
    "duration": 30,
    "start_time": "2022-11-06T19:55:25.589Z"
   },
   {
    "duration": 22,
    "start_time": "2022-11-06T19:55:25.793Z"
   },
   {
    "duration": 5,
    "start_time": "2022-11-06T19:55:25.984Z"
   },
   {
    "duration": 13,
    "start_time": "2022-11-06T19:55:26.623Z"
   },
   {
    "duration": 762,
    "start_time": "2022-11-06T19:55:26.966Z"
   },
   {
    "duration": 5,
    "start_time": "2022-11-06T19:55:29.554Z"
   },
   {
    "duration": 257,
    "start_time": "2022-11-06T19:55:29.772Z"
   },
   {
    "duration": 5,
    "start_time": "2022-11-06T19:55:30.183Z"
   },
   {
    "duration": 157,
    "start_time": "2022-11-06T19:55:30.411Z"
   },
   {
    "duration": 12,
    "start_time": "2022-11-06T19:55:38.639Z"
   },
   {
    "duration": 420,
    "start_time": "2022-11-06T19:55:50.824Z"
   },
   {
    "duration": 4,
    "start_time": "2022-11-06T19:56:21.049Z"
   },
   {
    "duration": 48,
    "start_time": "2022-11-06T19:56:21.836Z"
   },
   {
    "duration": 21,
    "start_time": "2022-11-06T19:56:22.106Z"
   },
   {
    "duration": 14,
    "start_time": "2022-11-06T19:56:22.504Z"
   },
   {
    "duration": 20,
    "start_time": "2022-11-06T19:56:22.711Z"
   },
   {
    "duration": 15,
    "start_time": "2022-11-06T19:56:22.903Z"
   },
   {
    "duration": 6,
    "start_time": "2022-11-06T19:56:23.117Z"
   },
   {
    "duration": 16,
    "start_time": "2022-11-06T19:56:23.741Z"
   },
   {
    "duration": 806,
    "start_time": "2022-11-06T19:56:24.171Z"
   },
   {
    "duration": 5,
    "start_time": "2022-11-06T19:56:24.979Z"
   },
   {
    "duration": 169,
    "start_time": "2022-11-06T19:56:24.993Z"
   },
   {
    "duration": 5,
    "start_time": "2022-11-06T19:56:25.422Z"
   },
   {
    "duration": 158,
    "start_time": "2022-11-06T19:56:25.630Z"
   },
   {
    "duration": 10,
    "start_time": "2022-11-06T19:56:26.296Z"
   },
   {
    "duration": 5,
    "start_time": "2022-11-06T19:56:26.512Z"
   },
   {
    "duration": 26,
    "start_time": "2022-11-06T19:56:26.736Z"
   },
   {
    "duration": 16,
    "start_time": "2022-11-06T19:56:26.944Z"
   },
   {
    "duration": 9,
    "start_time": "2022-11-06T19:56:27.173Z"
   },
   {
    "duration": 3,
    "start_time": "2022-11-06T19:56:27.571Z"
   },
   {
    "duration": 425,
    "start_time": "2022-11-06T19:56:28.212Z"
   },
   {
    "duration": 4,
    "start_time": "2022-11-06T19:57:02.377Z"
   },
   {
    "duration": 45,
    "start_time": "2022-11-06T19:57:03.296Z"
   },
   {
    "duration": 21,
    "start_time": "2022-11-06T19:57:03.513Z"
   },
   {
    "duration": 14,
    "start_time": "2022-11-06T19:57:03.701Z"
   },
   {
    "duration": 20,
    "start_time": "2022-11-06T19:57:03.903Z"
   },
   {
    "duration": 15,
    "start_time": "2022-11-06T19:57:04.114Z"
   },
   {
    "duration": 5,
    "start_time": "2022-11-06T19:57:04.326Z"
   },
   {
    "duration": 15,
    "start_time": "2022-11-06T19:57:04.961Z"
   },
   {
    "duration": 859,
    "start_time": "2022-11-06T19:57:05.553Z"
   },
   {
    "duration": 12,
    "start_time": "2022-11-06T19:57:06.414Z"
   },
   {
    "duration": 177,
    "start_time": "2022-11-06T19:57:06.428Z"
   },
   {
    "duration": 4,
    "start_time": "2022-11-06T19:57:06.845Z"
   },
   {
    "duration": 165,
    "start_time": "2022-11-06T19:57:07.052Z"
   },
   {
    "duration": 9,
    "start_time": "2022-11-06T19:57:07.718Z"
   },
   {
    "duration": 4,
    "start_time": "2022-11-06T19:57:08.085Z"
   },
   {
    "duration": 22,
    "start_time": "2022-11-06T19:57:08.310Z"
   },
   {
    "duration": 17,
    "start_time": "2022-11-06T19:57:08.770Z"
   },
   {
    "duration": 8,
    "start_time": "2022-11-06T19:57:09.027Z"
   },
   {
    "duration": 4,
    "start_time": "2022-11-06T19:57:09.770Z"
   },
   {
    "duration": 371,
    "start_time": "2022-11-06T19:57:10.356Z"
   },
   {
    "duration": 669,
    "start_time": "2022-11-06T19:57:37.377Z"
   },
   {
    "duration": 536,
    "start_time": "2022-11-06T19:58:11.796Z"
   },
   {
    "duration": 335,
    "start_time": "2022-11-06T19:58:41.100Z"
   },
   {
    "duration": 280,
    "start_time": "2022-11-06T19:58:54.676Z"
   },
   {
    "duration": 11,
    "start_time": "2022-11-06T19:59:24.964Z"
   },
   {
    "duration": 9,
    "start_time": "2022-11-06T19:59:35.830Z"
   },
   {
    "duration": 7,
    "start_time": "2022-11-06T19:59:36.341Z"
   },
   {
    "duration": 5,
    "start_time": "2022-11-06T19:59:37.437Z"
   },
   {
    "duration": 4,
    "start_time": "2022-11-06T19:59:50.944Z"
   },
   {
    "duration": 70,
    "start_time": "2022-11-06T20:00:29.640Z"
   },
   {
    "duration": 399,
    "start_time": "2022-11-06T20:00:34.335Z"
   },
   {
    "duration": 17,
    "start_time": "2022-11-06T20:01:53.027Z"
   },
   {
    "duration": 31,
    "start_time": "2022-11-06T20:02:27.808Z"
   },
   {
    "duration": 44,
    "start_time": "2022-11-06T20:02:28.440Z"
   },
   {
    "duration": 21,
    "start_time": "2022-11-06T20:02:29.004Z"
   },
   {
    "duration": 13,
    "start_time": "2022-11-06T20:02:29.212Z"
   },
   {
    "duration": 21,
    "start_time": "2022-11-06T20:02:29.415Z"
   },
   {
    "duration": 13,
    "start_time": "2022-11-06T20:02:29.609Z"
   },
   {
    "duration": 4,
    "start_time": "2022-11-06T20:02:29.813Z"
   },
   {
    "duration": 15,
    "start_time": "2022-11-06T20:02:30.383Z"
   },
   {
    "duration": 837,
    "start_time": "2022-11-06T20:02:30.799Z"
   },
   {
    "duration": 5,
    "start_time": "2022-11-06T20:02:31.638Z"
   },
   {
    "duration": 190,
    "start_time": "2022-11-06T20:02:31.644Z"
   },
   {
    "duration": 7,
    "start_time": "2022-11-06T20:02:32.029Z"
   },
   {
    "duration": 154,
    "start_time": "2022-11-06T20:02:32.228Z"
   },
   {
    "duration": 10,
    "start_time": "2022-11-06T20:02:33.052Z"
   },
   {
    "duration": 5,
    "start_time": "2022-11-06T20:02:33.444Z"
   },
   {
    "duration": 23,
    "start_time": "2022-11-06T20:02:33.708Z"
   },
   {
    "duration": 11,
    "start_time": "2022-11-06T20:02:34.382Z"
   },
   {
    "duration": 7,
    "start_time": "2022-11-06T20:02:34.672Z"
   },
   {
    "duration": 3,
    "start_time": "2022-11-06T20:02:36.118Z"
   },
   {
    "duration": 269,
    "start_time": "2022-11-06T20:02:36.982Z"
   },
   {
    "duration": 257534,
    "start_time": "2022-11-06T20:02:38.030Z"
   },
   {
    "duration": 71,
    "start_time": "2022-11-06T20:06:55.567Z"
   },
   {
    "duration": 0,
    "start_time": "2022-11-06T20:06:55.639Z"
   },
   {
    "duration": 30,
    "start_time": "2022-11-06T20:07:38.979Z"
   },
   {
    "duration": 49,
    "start_time": "2022-11-06T20:07:39.603Z"
   },
   {
    "duration": 19,
    "start_time": "2022-11-06T20:07:40.170Z"
   },
   {
    "duration": 13,
    "start_time": "2022-11-06T20:07:40.799Z"
   },
   {
    "duration": 27,
    "start_time": "2022-11-06T20:07:42.577Z"
   },
   {
    "duration": 24,
    "start_time": "2022-11-06T20:07:43.318Z"
   },
   {
    "duration": 5,
    "start_time": "2022-11-06T20:07:43.806Z"
   },
   {
    "duration": 14,
    "start_time": "2022-11-06T20:07:44.817Z"
   },
   {
    "duration": 782,
    "start_time": "2022-11-06T20:07:45.806Z"
   },
   {
    "duration": 9,
    "start_time": "2022-11-06T20:07:46.829Z"
   },
   {
    "duration": 158,
    "start_time": "2022-11-06T20:07:47.116Z"
   },
   {
    "duration": 5,
    "start_time": "2022-11-06T20:07:49.595Z"
   },
   {
    "duration": 180,
    "start_time": "2022-11-06T20:07:49.867Z"
   },
   {
    "duration": 9,
    "start_time": "2022-11-06T20:07:51.308Z"
   },
   {
    "duration": 5,
    "start_time": "2022-11-06T20:07:51.564Z"
   },
   {
    "duration": 37,
    "start_time": "2022-11-06T20:07:51.807Z"
   },
   {
    "duration": 16,
    "start_time": "2022-11-06T20:07:52.315Z"
   },
   {
    "duration": 7,
    "start_time": "2022-11-06T20:07:52.605Z"
   },
   {
    "duration": 4,
    "start_time": "2022-11-06T20:07:53.297Z"
   },
   {
    "duration": 273,
    "start_time": "2022-11-06T20:07:54.977Z"
   },
   {
    "duration": 265616,
    "start_time": "2022-11-06T20:07:59.536Z"
   },
   {
    "duration": 4,
    "start_time": "2022-11-06T20:18:10.384Z"
   },
   {
    "duration": 46,
    "start_time": "2022-11-06T20:18:11.427Z"
   },
   {
    "duration": 25,
    "start_time": "2022-11-06T20:18:11.943Z"
   },
   {
    "duration": 12,
    "start_time": "2022-11-06T20:18:12.495Z"
   },
   {
    "duration": 19,
    "start_time": "2022-11-06T20:18:12.946Z"
   },
   {
    "duration": 14,
    "start_time": "2022-11-06T20:18:13.167Z"
   },
   {
    "duration": 4,
    "start_time": "2022-11-06T20:18:13.398Z"
   },
   {
    "duration": 18,
    "start_time": "2022-11-06T20:18:14.039Z"
   },
   {
    "duration": 824,
    "start_time": "2022-11-06T20:18:14.464Z"
   },
   {
    "duration": 4,
    "start_time": "2022-11-06T20:18:15.290Z"
   },
   {
    "duration": 148,
    "start_time": "2022-11-06T20:18:15.531Z"
   },
   {
    "duration": 4,
    "start_time": "2022-11-06T20:18:16.276Z"
   },
   {
    "duration": 147,
    "start_time": "2022-11-06T20:18:16.562Z"
   },
   {
    "duration": 12,
    "start_time": "2022-11-06T20:18:17.227Z"
   },
   {
    "duration": 4,
    "start_time": "2022-11-06T20:18:17.466Z"
   },
   {
    "duration": 22,
    "start_time": "2022-11-06T20:18:17.735Z"
   },
   {
    "duration": 10,
    "start_time": "2022-11-06T20:18:18.570Z"
   },
   {
    "duration": 8,
    "start_time": "2022-11-06T20:18:18.860Z"
   },
   {
    "duration": 3,
    "start_time": "2022-11-06T20:18:19.844Z"
   },
   {
    "duration": 393,
    "start_time": "2022-11-06T20:18:20.647Z"
   },
   {
    "duration": 252264,
    "start_time": "2022-11-06T20:18:24.728Z"
   },
   {
    "duration": 88166,
    "start_time": "2022-11-06T20:22:41.266Z"
   },
   {
    "duration": 5,
    "start_time": "2022-11-06T20:24:26.884Z"
   },
   {
    "duration": 4,
    "start_time": "2022-11-06T20:24:37.249Z"
   },
   {
    "duration": 41,
    "start_time": "2022-11-06T20:24:38.024Z"
   },
   {
    "duration": 21,
    "start_time": "2022-11-06T20:24:39.612Z"
   },
   {
    "duration": 13,
    "start_time": "2022-11-06T20:24:40.249Z"
   },
   {
    "duration": 19,
    "start_time": "2022-11-06T20:24:40.695Z"
   },
   {
    "duration": 13,
    "start_time": "2022-11-06T20:24:41.200Z"
   },
   {
    "duration": 5,
    "start_time": "2022-11-06T20:24:41.528Z"
   },
   {
    "duration": 14,
    "start_time": "2022-11-06T20:24:42.543Z"
   },
   {
    "duration": 826,
    "start_time": "2022-11-06T20:24:43.161Z"
   },
   {
    "duration": 5,
    "start_time": "2022-11-06T20:24:44.132Z"
   },
   {
    "duration": 147,
    "start_time": "2022-11-06T20:24:44.362Z"
   },
   {
    "duration": 4,
    "start_time": "2022-11-06T20:24:45.295Z"
   },
   {
    "duration": 144,
    "start_time": "2022-11-06T20:24:45.942Z"
   },
   {
    "duration": 9,
    "start_time": "2022-11-06T20:24:48.382Z"
   },
   {
    "duration": 4,
    "start_time": "2022-11-06T20:24:48.842Z"
   },
   {
    "duration": 22,
    "start_time": "2022-11-06T20:24:49.881Z"
   },
   {
    "duration": 10,
    "start_time": "2022-11-06T20:24:52.215Z"
   },
   {
    "duration": 7,
    "start_time": "2022-11-06T20:24:53.237Z"
   },
   {
    "duration": 4,
    "start_time": "2022-11-06T20:30:08.323Z"
   },
   {
    "duration": 18,
    "start_time": "2022-11-06T20:30:24.533Z"
   },
   {
    "duration": 489,
    "start_time": "2022-11-06T20:31:03.139Z"
   },
   {
    "duration": 3,
    "start_time": "2022-11-06T20:31:51.364Z"
   },
   {
    "duration": 521,
    "start_time": "2022-11-06T20:32:02.903Z"
   },
   {
    "duration": 253310,
    "start_time": "2022-11-06T20:32:12.162Z"
   },
   {
    "duration": 76945,
    "start_time": "2022-11-06T20:37:49.283Z"
   },
   {
    "duration": 6,
    "start_time": "2022-11-06T20:39:17.632Z"
   },
   {
    "duration": 343,
    "start_time": "2022-11-06T20:39:21.292Z"
   },
   {
    "duration": 3,
    "start_time": "2022-11-06T20:44:34.498Z"
   },
   {
    "duration": 43,
    "start_time": "2022-11-06T20:44:35.638Z"
   },
   {
    "duration": 21,
    "start_time": "2022-11-06T20:44:38.065Z"
   },
   {
    "duration": 12,
    "start_time": "2022-11-06T20:44:38.808Z"
   },
   {
    "duration": 19,
    "start_time": "2022-11-06T20:44:39.288Z"
   },
   {
    "duration": 13,
    "start_time": "2022-11-06T20:44:39.504Z"
   },
   {
    "duration": 4,
    "start_time": "2022-11-06T20:44:39.711Z"
   },
   {
    "duration": 14,
    "start_time": "2022-11-06T20:44:40.494Z"
   },
   {
    "duration": 921,
    "start_time": "2022-11-06T20:44:40.916Z"
   },
   {
    "duration": 9,
    "start_time": "2022-11-06T20:44:41.840Z"
   },
   {
    "duration": 220,
    "start_time": "2022-11-06T20:44:41.852Z"
   },
   {
    "duration": 4,
    "start_time": "2022-11-06T20:44:42.197Z"
   },
   {
    "duration": 151,
    "start_time": "2022-11-06T20:44:42.420Z"
   },
   {
    "duration": 11,
    "start_time": "2022-11-06T20:44:43.077Z"
   },
   {
    "duration": 4,
    "start_time": "2022-11-06T20:44:43.286Z"
   },
   {
    "duration": 23,
    "start_time": "2022-11-06T20:44:43.495Z"
   },
   {
    "duration": 9,
    "start_time": "2022-11-06T20:44:43.927Z"
   },
   {
    "duration": 8,
    "start_time": "2022-11-06T20:44:44.135Z"
   },
   {
    "duration": 3,
    "start_time": "2022-11-06T20:44:46.956Z"
   },
   {
    "duration": 340,
    "start_time": "2022-11-06T20:44:48.291Z"
   },
   {
    "duration": 252504,
    "start_time": "2022-11-06T20:44:51.258Z"
   },
   {
    "duration": 80030,
    "start_time": "2022-11-06T20:50:14.303Z"
   },
   {
    "duration": 6,
    "start_time": "2022-11-06T20:51:41.702Z"
   },
   {
    "duration": 3,
    "start_time": "2022-11-06T20:51:49.307Z"
   },
   {
    "duration": 471337,
    "start_time": "2022-11-06T20:51:51.288Z"
   },
   {
    "duration": 328373,
    "start_time": "2022-11-06T21:03:34.152Z"
   },
   {
    "duration": 9,
    "start_time": "2022-11-06T21:09:54.362Z"
   },
   {
    "duration": 2538,
    "start_time": "2022-11-08T14:07:13.992Z"
   },
   {
    "duration": 115,
    "start_time": "2022-11-08T14:07:16.532Z"
   },
   {
    "duration": 23,
    "start_time": "2022-11-08T14:08:53.425Z"
   },
   {
    "duration": 16,
    "start_time": "2022-11-08T14:08:53.999Z"
   },
   {
    "duration": 19,
    "start_time": "2022-11-08T14:08:55.396Z"
   },
   {
    "duration": 11,
    "start_time": "2022-11-08T14:08:55.820Z"
   },
   {
    "duration": 3,
    "start_time": "2022-11-08T14:08:56.886Z"
   },
   {
    "duration": 14,
    "start_time": "2022-11-08T14:09:02.793Z"
   },
   {
    "duration": 858,
    "start_time": "2022-11-08T14:09:26.375Z"
   },
   {
    "duration": 5,
    "start_time": "2022-11-08T14:09:27.976Z"
   },
   {
    "duration": 207,
    "start_time": "2022-11-08T14:09:28.163Z"
   },
   {
    "duration": 3,
    "start_time": "2022-11-08T14:09:28.700Z"
   },
   {
    "duration": 132,
    "start_time": "2022-11-08T14:09:28.905Z"
   },
   {
    "duration": 4,
    "start_time": "2022-11-08T14:11:05.117Z"
   },
   {
    "duration": 18,
    "start_time": "2022-11-08T14:11:05.820Z"
   },
   {
    "duration": 9,
    "start_time": "2022-11-08T14:11:37.840Z"
   },
   {
    "duration": 6,
    "start_time": "2022-11-08T14:11:47.409Z"
   },
   {
    "duration": 3,
    "start_time": "2022-11-08T14:12:38.719Z"
   },
   {
    "duration": 172,
    "start_time": "2022-11-08T14:12:45.163Z"
   },
   {
    "duration": 178825,
    "start_time": "2022-11-08T14:16:57.822Z"
   },
   {
    "duration": 1452,
    "start_time": "2022-11-10T09:01:45.529Z"
   },
   {
    "duration": 121,
    "start_time": "2022-11-10T09:01:46.983Z"
   },
   {
    "duration": 21,
    "start_time": "2022-11-10T09:01:48.170Z"
   },
   {
    "duration": 11,
    "start_time": "2022-11-10T09:01:48.387Z"
   },
   {
    "duration": 17,
    "start_time": "2022-11-10T09:01:48.844Z"
   },
   {
    "duration": 10,
    "start_time": "2022-11-10T09:01:49.331Z"
   },
   {
    "duration": 4,
    "start_time": "2022-11-10T09:01:49.666Z"
   },
   {
    "duration": 13,
    "start_time": "2022-11-10T09:01:51.513Z"
   },
   {
    "duration": 743,
    "start_time": "2022-11-10T09:01:52.552Z"
   },
   {
    "duration": 4,
    "start_time": "2022-11-10T09:01:53.735Z"
   },
   {
    "duration": 198,
    "start_time": "2022-11-10T09:01:54.159Z"
   },
   {
    "duration": 4,
    "start_time": "2022-11-10T09:01:54.994Z"
   },
   {
    "duration": 125,
    "start_time": "2022-11-10T09:01:55.424Z"
   },
   {
    "duration": 5,
    "start_time": "2022-11-10T09:01:58.714Z"
   },
   {
    "duration": 4,
    "start_time": "2022-11-10T09:04:17.780Z"
   },
   {
    "duration": 18,
    "start_time": "2022-11-10T09:04:18.858Z"
   },
   {
    "duration": 4,
    "start_time": "2022-11-10T09:05:17.342Z"
   },
   {
    "duration": 18,
    "start_time": "2022-11-10T09:05:18.434Z"
   },
   {
    "duration": 4,
    "start_time": "2022-11-10T09:05:29.343Z"
   },
   {
    "duration": 17,
    "start_time": "2022-11-10T09:05:29.962Z"
   },
   {
    "duration": 4,
    "start_time": "2022-11-10T09:08:23.070Z"
   },
   {
    "duration": 106,
    "start_time": "2022-11-10T09:08:23.860Z"
   },
   {
    "duration": 3,
    "start_time": "2022-11-10T09:08:37.844Z"
   },
   {
    "duration": 41,
    "start_time": "2022-11-10T09:08:38.418Z"
   },
   {
    "duration": 16,
    "start_time": "2022-11-10T09:08:39.243Z"
   },
   {
    "duration": 13,
    "start_time": "2022-11-10T09:08:39.411Z"
   },
   {
    "duration": 21,
    "start_time": "2022-11-10T09:08:39.580Z"
   },
   {
    "duration": 15,
    "start_time": "2022-11-10T09:08:39.739Z"
   },
   {
    "duration": 4,
    "start_time": "2022-11-10T09:08:39.910Z"
   },
   {
    "duration": 12,
    "start_time": "2022-11-10T09:08:40.415Z"
   },
   {
    "duration": 704,
    "start_time": "2022-11-10T09:08:40.939Z"
   },
   {
    "duration": 15,
    "start_time": "2022-11-10T09:08:41.645Z"
   },
   {
    "duration": 121,
    "start_time": "2022-11-10T09:08:41.795Z"
   },
   {
    "duration": 4,
    "start_time": "2022-11-10T09:08:42.123Z"
   },
   {
    "duration": 122,
    "start_time": "2022-11-10T09:08:42.305Z"
   },
   {
    "duration": 5,
    "start_time": "2022-11-10T09:08:43.163Z"
   },
   {
    "duration": 4,
    "start_time": "2022-11-10T09:08:45.087Z"
   },
   {
    "duration": 9,
    "start_time": "2022-11-10T09:08:45.812Z"
   },
   {
    "duration": 5,
    "start_time": "2022-11-10T09:09:48.691Z"
   },
   {
    "duration": 818,
    "start_time": "2022-11-10T09:09:49.351Z"
   },
   {
    "duration": 4,
    "start_time": "2022-11-10T09:10:03.305Z"
   },
   {
    "duration": 44,
    "start_time": "2022-11-10T09:10:03.895Z"
   },
   {
    "duration": 23,
    "start_time": "2022-11-10T09:10:04.638Z"
   },
   {
    "duration": 12,
    "start_time": "2022-11-10T09:10:04.819Z"
   },
   {
    "duration": 16,
    "start_time": "2022-11-10T09:10:04.991Z"
   },
   {
    "duration": 12,
    "start_time": "2022-11-10T09:10:05.143Z"
   },
   {
    "duration": 5,
    "start_time": "2022-11-10T09:10:05.307Z"
   },
   {
    "duration": 13,
    "start_time": "2022-11-10T09:10:05.802Z"
   },
   {
    "duration": 729,
    "start_time": "2022-11-10T09:10:06.306Z"
   },
   {
    "duration": 3,
    "start_time": "2022-11-10T09:10:07.037Z"
   },
   {
    "duration": 125,
    "start_time": "2022-11-10T09:10:07.042Z"
   },
   {
    "duration": 4,
    "start_time": "2022-11-10T09:10:07.370Z"
   },
   {
    "duration": 121,
    "start_time": "2022-11-10T09:10:07.558Z"
   },
   {
    "duration": 5,
    "start_time": "2022-11-10T09:10:08.764Z"
   },
   {
    "duration": 3,
    "start_time": "2022-11-10T09:10:09.779Z"
   },
   {
    "duration": 1037,
    "start_time": "2022-11-10T09:10:10.203Z"
   },
   {
    "duration": 4,
    "start_time": "2022-11-10T09:11:11.636Z"
   },
   {
    "duration": 20,
    "start_time": "2022-11-10T09:11:12.384Z"
   },
   {
    "duration": 10,
    "start_time": "2022-11-10T09:13:34.077Z"
   },
   {
    "duration": 3,
    "start_time": "2022-11-10T09:13:43.705Z"
   },
   {
    "duration": 40,
    "start_time": "2022-11-10T09:13:44.393Z"
   },
   {
    "duration": 18,
    "start_time": "2022-11-10T09:13:45.243Z"
   },
   {
    "duration": 12,
    "start_time": "2022-11-10T09:13:45.417Z"
   },
   {
    "duration": 17,
    "start_time": "2022-11-10T09:13:45.604Z"
   },
   {
    "duration": 11,
    "start_time": "2022-11-10T09:13:45.766Z"
   },
   {
    "duration": 4,
    "start_time": "2022-11-10T09:13:45.945Z"
   },
   {
    "duration": 11,
    "start_time": "2022-11-10T09:13:46.445Z"
   },
   {
    "duration": 619,
    "start_time": "2022-11-10T09:13:46.935Z"
   },
   {
    "duration": 5,
    "start_time": "2022-11-10T09:13:47.556Z"
   },
   {
    "duration": 129,
    "start_time": "2022-11-10T09:13:47.597Z"
   },
   {
    "duration": 4,
    "start_time": "2022-11-10T09:13:47.909Z"
   },
   {
    "duration": 118,
    "start_time": "2022-11-10T09:13:48.094Z"
   },
   {
    "duration": 5,
    "start_time": "2022-11-10T09:13:48.932Z"
   },
   {
    "duration": 4,
    "start_time": "2022-11-10T09:13:49.784Z"
   },
   {
    "duration": 19,
    "start_time": "2022-11-10T09:13:50.225Z"
   },
   {
    "duration": 10,
    "start_time": "2022-11-10T09:13:52.579Z"
   },
   {
    "duration": 8,
    "start_time": "2022-11-10T09:13:53.943Z"
   },
   {
    "duration": 11,
    "start_time": "2022-11-10T09:14:37.959Z"
   },
   {
    "duration": 10,
    "start_time": "2022-11-10T09:15:15.135Z"
   },
   {
    "duration": 6,
    "start_time": "2022-11-10T09:15:18.934Z"
   },
   {
    "duration": 6,
    "start_time": "2022-11-10T09:15:46.208Z"
   },
   {
    "duration": 3,
    "start_time": "2022-11-10T09:16:03.878Z"
   },
   {
    "duration": 16,
    "start_time": "2022-11-10T09:18:01.336Z"
   },
   {
    "duration": 4,
    "start_time": "2022-11-10T09:19:28.944Z"
   },
   {
    "duration": 41,
    "start_time": "2022-11-10T09:19:29.129Z"
   },
   {
    "duration": 18,
    "start_time": "2022-11-10T09:19:29.457Z"
   },
   {
    "duration": 10,
    "start_time": "2022-11-10T09:19:29.610Z"
   },
   {
    "duration": 17,
    "start_time": "2022-11-10T09:19:29.765Z"
   },
   {
    "duration": 11,
    "start_time": "2022-11-10T09:19:29.913Z"
   },
   {
    "duration": 4,
    "start_time": "2022-11-10T09:19:30.076Z"
   },
   {
    "duration": 11,
    "start_time": "2022-11-10T09:19:30.561Z"
   },
   {
    "duration": 715,
    "start_time": "2022-11-10T09:19:31.057Z"
   },
   {
    "duration": 4,
    "start_time": "2022-11-10T09:19:31.774Z"
   },
   {
    "duration": 131,
    "start_time": "2022-11-10T09:19:31.779Z"
   },
   {
    "duration": 4,
    "start_time": "2022-11-10T09:19:32.056Z"
   },
   {
    "duration": 128,
    "start_time": "2022-11-10T09:19:32.248Z"
   },
   {
    "duration": 5,
    "start_time": "2022-11-10T09:19:33.786Z"
   },
   {
    "duration": 3,
    "start_time": "2022-11-10T09:19:35.156Z"
   },
   {
    "duration": 17,
    "start_time": "2022-11-10T09:19:35.512Z"
   },
   {
    "duration": 10,
    "start_time": "2022-11-10T09:19:38.047Z"
   },
   {
    "duration": 7,
    "start_time": "2022-11-10T09:19:39.304Z"
   },
   {
    "duration": 4,
    "start_time": "2022-11-10T09:19:53.363Z"
   },
   {
    "duration": 18,
    "start_time": "2022-11-10T09:19:55.962Z"
   },
   {
    "duration": 11,
    "start_time": "2022-11-10T09:25:44.849Z"
   },
   {
    "duration": 16,
    "start_time": "2022-11-10T09:26:55.880Z"
   },
   {
    "duration": 17,
    "start_time": "2022-11-10T09:27:51.871Z"
   },
   {
    "duration": 10,
    "start_time": "2022-11-10T09:30:10.348Z"
   },
   {
    "duration": 4,
    "start_time": "2022-11-10T09:30:56.740Z"
   },
   {
    "duration": 38,
    "start_time": "2022-11-10T09:30:57.476Z"
   },
   {
    "duration": 16,
    "start_time": "2022-11-10T09:30:57.856Z"
   },
   {
    "duration": 10,
    "start_time": "2022-11-10T09:30:58.048Z"
   },
   {
    "duration": 17,
    "start_time": "2022-11-10T09:30:58.226Z"
   },
   {
    "duration": 12,
    "start_time": "2022-11-10T09:30:58.390Z"
   },
   {
    "duration": 4,
    "start_time": "2022-11-10T09:30:58.554Z"
   },
   {
    "duration": 14,
    "start_time": "2022-11-10T09:30:59.090Z"
   },
   {
    "duration": 649,
    "start_time": "2022-11-10T09:30:59.606Z"
   },
   {
    "duration": 4,
    "start_time": "2022-11-10T09:31:00.259Z"
   },
   {
    "duration": 121,
    "start_time": "2022-11-10T09:31:00.303Z"
   },
   {
    "duration": 3,
    "start_time": "2022-11-10T09:31:00.651Z"
   },
   {
    "duration": 114,
    "start_time": "2022-11-10T09:31:00.831Z"
   },
   {
    "duration": 4,
    "start_time": "2022-11-10T09:31:02.249Z"
   },
   {
    "duration": 5,
    "start_time": "2022-11-10T09:31:03.622Z"
   },
   {
    "duration": 19,
    "start_time": "2022-11-10T09:31:04.094Z"
   },
   {
    "duration": 10,
    "start_time": "2022-11-10T09:31:06.290Z"
   },
   {
    "duration": 7,
    "start_time": "2022-11-10T09:31:06.899Z"
   },
   {
    "duration": 3,
    "start_time": "2022-11-10T09:31:08.695Z"
   },
   {
    "duration": 19,
    "start_time": "2022-11-10T09:31:10.756Z"
   },
   {
    "duration": 15883,
    "start_time": "2022-11-10T09:31:29.225Z"
   },
   {
    "duration": 16062,
    "start_time": "2022-11-10T09:32:31.693Z"
   },
   {
    "duration": 3,
    "start_time": "2022-11-10T09:37:02.385Z"
   },
   {
    "duration": 9,
    "start_time": "2022-11-10T09:39:59.121Z"
   },
   {
    "duration": 2,
    "start_time": "2022-11-10T09:40:11.219Z"
   },
   {
    "duration": 9,
    "start_time": "2022-11-10T09:40:13.132Z"
   },
   {
    "duration": 10,
    "start_time": "2022-11-10T09:40:33.025Z"
   },
   {
    "duration": 10,
    "start_time": "2022-11-10T09:42:17.647Z"
   },
   {
    "duration": 39,
    "start_time": "2022-11-10T09:42:18.279Z"
   },
   {
    "duration": 4,
    "start_time": "2022-11-10T09:43:29.893Z"
   },
   {
    "duration": 39,
    "start_time": "2022-11-10T09:43:30.071Z"
   },
   {
    "duration": 16,
    "start_time": "2022-11-10T09:43:30.397Z"
   },
   {
    "duration": 12,
    "start_time": "2022-11-10T09:43:30.557Z"
   },
   {
    "duration": 17,
    "start_time": "2022-11-10T09:43:30.719Z"
   },
   {
    "duration": 12,
    "start_time": "2022-11-10T09:43:30.875Z"
   },
   {
    "duration": 3,
    "start_time": "2022-11-10T09:43:31.030Z"
   },
   {
    "duration": 12,
    "start_time": "2022-11-10T09:43:31.536Z"
   },
   {
    "duration": 618,
    "start_time": "2022-11-10T09:43:32.035Z"
   },
   {
    "duration": 7,
    "start_time": "2022-11-10T09:43:32.655Z"
   },
   {
    "duration": 135,
    "start_time": "2022-11-10T09:43:32.691Z"
   },
   {
    "duration": 4,
    "start_time": "2022-11-10T09:43:33.029Z"
   },
   {
    "duration": 114,
    "start_time": "2022-11-10T09:43:33.199Z"
   },
   {
    "duration": 4,
    "start_time": "2022-11-10T09:43:34.084Z"
   },
   {
    "duration": 4,
    "start_time": "2022-11-10T09:43:36.031Z"
   },
   {
    "duration": 21,
    "start_time": "2022-11-10T09:43:36.590Z"
   },
   {
    "duration": 10,
    "start_time": "2022-11-10T09:43:39.935Z"
   },
   {
    "duration": 7,
    "start_time": "2022-11-10T09:43:40.741Z"
   },
   {
    "duration": 3,
    "start_time": "2022-11-10T09:43:43.408Z"
   },
   {
    "duration": 3,
    "start_time": "2022-11-10T09:43:44.311Z"
   },
   {
    "duration": 9,
    "start_time": "2022-11-10T09:43:58.219Z"
   },
   {
    "duration": 8,
    "start_time": "2022-11-10T09:44:22.333Z"
   },
   {
    "duration": 9,
    "start_time": "2022-11-10T09:45:31.451Z"
   },
   {
    "duration": 51,
    "start_time": "2022-11-10T09:46:07.674Z"
   },
   {
    "duration": 10,
    "start_time": "2022-11-10T09:46:17.622Z"
   },
   {
    "duration": 9,
    "start_time": "2022-11-10T09:54:10.969Z"
   },
   {
    "duration": 9,
    "start_time": "2022-11-10T09:58:48.566Z"
   },
   {
    "duration": 8,
    "start_time": "2022-11-10T09:58:50.285Z"
   },
   {
    "duration": 3,
    "start_time": "2022-11-10T09:58:52.415Z"
   },
   {
    "duration": 3,
    "start_time": "2022-11-10T09:58:53.805Z"
   },
   {
    "duration": 9,
    "start_time": "2022-11-10T10:00:31.482Z"
   },
   {
    "duration": 4,
    "start_time": "2022-11-10T10:01:04.408Z"
   },
   {
    "duration": 42,
    "start_time": "2022-11-10T10:01:05.050Z"
   },
   {
    "duration": 18,
    "start_time": "2022-11-10T10:01:05.396Z"
   },
   {
    "duration": 11,
    "start_time": "2022-11-10T10:01:05.554Z"
   },
   {
    "duration": 17,
    "start_time": "2022-11-10T10:01:05.720Z"
   },
   {
    "duration": 11,
    "start_time": "2022-11-10T10:01:05.887Z"
   },
   {
    "duration": 4,
    "start_time": "2022-11-10T10:01:06.056Z"
   },
   {
    "duration": 12,
    "start_time": "2022-11-10T10:01:06.562Z"
   },
   {
    "duration": 695,
    "start_time": "2022-11-10T10:01:07.067Z"
   },
   {
    "duration": 4,
    "start_time": "2022-11-10T10:01:07.764Z"
   },
   {
    "duration": 135,
    "start_time": "2022-11-10T10:01:07.769Z"
   },
   {
    "duration": 4,
    "start_time": "2022-11-10T10:01:08.104Z"
   },
   {
    "duration": 118,
    "start_time": "2022-11-10T10:01:08.265Z"
   },
   {
    "duration": 5,
    "start_time": "2022-11-10T10:01:09.141Z"
   },
   {
    "duration": 4,
    "start_time": "2022-11-10T10:01:10.932Z"
   },
   {
    "duration": 18,
    "start_time": "2022-11-10T10:01:11.491Z"
   },
   {
    "duration": 11,
    "start_time": "2022-11-10T10:01:14.036Z"
   },
   {
    "duration": 7,
    "start_time": "2022-11-10T10:01:17.472Z"
   },
   {
    "duration": 3,
    "start_time": "2022-11-10T10:01:20.332Z"
   },
   {
    "duration": 3,
    "start_time": "2022-11-10T10:01:20.971Z"
   },
   {
    "duration": 9,
    "start_time": "2022-11-10T10:01:23.185Z"
   },
   {
    "duration": 100,
    "start_time": "2022-11-10T10:02:10.963Z"
   },
   {
    "duration": 14,
    "start_time": "2022-11-10T10:02:20.024Z"
   },
   {
    "duration": 9,
    "start_time": "2022-11-10T10:02:30.168Z"
   },
   {
    "duration": 10,
    "start_time": "2022-11-10T10:03:07.049Z"
   },
   {
    "duration": 15791,
    "start_time": "2022-11-10T10:03:53.708Z"
   },
   {
    "duration": 4,
    "start_time": "2022-11-10T11:44:35.556Z"
   },
   {
    "duration": 45,
    "start_time": "2022-11-10T11:44:36.150Z"
   },
   {
    "duration": 17,
    "start_time": "2022-11-10T11:44:37.003Z"
   },
   {
    "duration": 13,
    "start_time": "2022-11-10T11:44:37.357Z"
   },
   {
    "duration": 18,
    "start_time": "2022-11-10T11:44:37.542Z"
   },
   {
    "duration": 12,
    "start_time": "2022-11-10T11:44:37.712Z"
   },
   {
    "duration": 3,
    "start_time": "2022-11-10T11:44:37.884Z"
   },
   {
    "duration": 12,
    "start_time": "2022-11-10T11:44:38.406Z"
   },
   {
    "duration": 669,
    "start_time": "2022-11-10T11:44:38.941Z"
   },
   {
    "duration": 4,
    "start_time": "2022-11-10T11:44:39.611Z"
   },
   {
    "duration": 132,
    "start_time": "2022-11-10T11:44:39.664Z"
   },
   {
    "duration": 4,
    "start_time": "2022-11-10T11:44:40.018Z"
   },
   {
    "duration": 208,
    "start_time": "2022-11-10T11:44:40.195Z"
   },
   {
    "duration": 5,
    "start_time": "2022-11-10T11:44:41.075Z"
   },
   {
    "duration": 3,
    "start_time": "2022-11-10T11:44:41.856Z"
   },
   {
    "duration": 20,
    "start_time": "2022-11-10T11:44:42.991Z"
   },
   {
    "duration": 10,
    "start_time": "2022-11-10T11:44:46.826Z"
   },
   {
    "duration": 8,
    "start_time": "2022-11-10T11:44:53.191Z"
   },
   {
    "duration": 3,
    "start_time": "2022-11-10T11:44:56.049Z"
   },
   {
    "duration": 3,
    "start_time": "2022-11-10T11:44:56.570Z"
   },
   {
    "duration": 9,
    "start_time": "2022-11-10T11:44:58.646Z"
   },
   {
    "duration": 16116,
    "start_time": "2022-11-10T11:45:09.879Z"
   },
   {
    "duration": 15700,
    "start_time": "2022-11-10T11:45:29.307Z"
   },
   {
    "duration": 53,
    "start_time": "2022-11-10T11:53:27.014Z"
   },
   {
    "duration": 55,
    "start_time": "2022-11-10T11:54:22.724Z"
   },
   {
    "duration": 50,
    "start_time": "2022-11-10T11:54:44.358Z"
   },
   {
    "duration": 52,
    "start_time": "2022-11-10T11:55:27.122Z"
   },
   {
    "duration": 11,
    "start_time": "2022-11-10T11:56:51.541Z"
   },
   {
    "duration": 12,
    "start_time": "2022-11-10T11:57:06.320Z"
   },
   {
    "duration": 15,
    "start_time": "2022-11-10T11:57:21.809Z"
   },
   {
    "duration": 208161,
    "start_time": "2022-11-10T11:57:57.201Z"
   },
   {
    "duration": 3,
    "start_time": "2022-11-10T12:01:25.363Z"
   },
   {
    "duration": 5,
    "start_time": "2022-11-10T12:01:36.013Z"
   },
   {
    "duration": 3,
    "start_time": "2022-11-10T12:01:38.723Z"
   },
   {
    "duration": 4,
    "start_time": "2022-11-10T12:02:29.326Z"
   },
   {
    "duration": 3,
    "start_time": "2022-11-10T12:02:47.520Z"
   },
   {
    "duration": 2337,
    "start_time": "2022-11-10T17:33:23.945Z"
   },
   {
    "duration": 134,
    "start_time": "2022-11-10T17:33:27.735Z"
   },
   {
    "duration": 24,
    "start_time": "2022-11-10T17:33:33.268Z"
   },
   {
    "duration": 14,
    "start_time": "2022-11-10T17:33:33.833Z"
   },
   {
    "duration": 19,
    "start_time": "2022-11-10T17:33:34.679Z"
   },
   {
    "duration": 13,
    "start_time": "2022-11-10T17:33:35.066Z"
   },
   {
    "duration": 4,
    "start_time": "2022-11-10T17:33:35.268Z"
   },
   {
    "duration": 14,
    "start_time": "2022-11-10T17:33:37.898Z"
   },
   {
    "duration": 867,
    "start_time": "2022-11-10T17:33:39.191Z"
   },
   {
    "duration": 5,
    "start_time": "2022-11-10T17:33:40.092Z"
   },
   {
    "duration": 235,
    "start_time": "2022-11-10T17:33:40.362Z"
   },
   {
    "duration": 4,
    "start_time": "2022-11-10T17:33:40.752Z"
   },
   {
    "duration": 146,
    "start_time": "2022-11-10T17:33:40.962Z"
   },
   {
    "duration": 6,
    "start_time": "2022-11-10T17:34:31.281Z"
   },
   {
    "duration": 4,
    "start_time": "2022-11-10T17:34:42.860Z"
   },
   {
    "duration": 23,
    "start_time": "2022-11-10T17:34:43.732Z"
   },
   {
    "duration": 11,
    "start_time": "2022-11-10T17:35:00.168Z"
   },
   {
    "duration": 8,
    "start_time": "2022-11-10T17:35:01.711Z"
   },
   {
    "duration": 4,
    "start_time": "2022-11-10T17:35:05.588Z"
   },
   {
    "duration": 2,
    "start_time": "2022-11-10T17:35:06.433Z"
   },
   {
    "duration": 11,
    "start_time": "2022-11-10T17:35:27.876Z"
   },
   {
    "duration": 141,
    "start_time": "2022-11-10T17:35:41.788Z"
   },
   {
    "duration": 155079,
    "start_time": "2022-11-10T17:36:15.673Z"
   },
   {
    "duration": 0,
    "start_time": "2022-11-10T17:38:50.755Z"
   },
   {
    "duration": 8354,
    "start_time": "2022-11-10T17:38:58.639Z"
   },
   {
    "duration": 7705,
    "start_time": "2022-11-10T17:41:27.585Z"
   },
   {
    "duration": 7692,
    "start_time": "2022-11-10T17:44:37.349Z"
   },
   {
    "duration": 11,
    "start_time": "2022-11-10T17:45:15.673Z"
   },
   {
    "duration": 7519,
    "start_time": "2022-11-10T17:45:20.855Z"
   },
   {
    "duration": 1572,
    "start_time": "2022-11-10T19:29:45.931Z"
   },
   {
    "duration": 142,
    "start_time": "2022-11-10T19:29:47.506Z"
   },
   {
    "duration": 30,
    "start_time": "2022-11-10T19:29:49.230Z"
   },
   {
    "duration": 12,
    "start_time": "2022-11-10T19:29:49.424Z"
   },
   {
    "duration": 17,
    "start_time": "2022-11-10T19:29:49.593Z"
   },
   {
    "duration": 12,
    "start_time": "2022-11-10T19:29:49.771Z"
   },
   {
    "duration": 3,
    "start_time": "2022-11-10T19:29:49.952Z"
   },
   {
    "duration": 14,
    "start_time": "2022-11-10T19:29:50.480Z"
   },
   {
    "duration": 788,
    "start_time": "2022-11-10T19:29:51.041Z"
   },
   {
    "duration": 4,
    "start_time": "2022-11-10T19:29:51.831Z"
   },
   {
    "duration": 202,
    "start_time": "2022-11-10T19:29:51.945Z"
   },
   {
    "duration": 4,
    "start_time": "2022-11-10T19:29:52.322Z"
   },
   {
    "duration": 150,
    "start_time": "2022-11-10T19:29:52.551Z"
   },
   {
    "duration": 5,
    "start_time": "2022-11-10T19:31:14.794Z"
   },
   {
    "duration": 4,
    "start_time": "2022-11-10T19:31:26.988Z"
   },
   {
    "duration": 20,
    "start_time": "2022-11-10T19:31:27.644Z"
   },
   {
    "duration": 9,
    "start_time": "2022-11-10T19:31:30.174Z"
   },
   {
    "duration": 8,
    "start_time": "2022-11-10T19:31:31.084Z"
   },
   {
    "duration": 3,
    "start_time": "2022-11-10T19:31:34.304Z"
   },
   {
    "duration": 3,
    "start_time": "2022-11-10T19:31:35.036Z"
   },
   {
    "duration": 9,
    "start_time": "2022-11-10T19:31:37.455Z"
   },
   {
    "duration": 118,
    "start_time": "2022-11-10T19:31:55.402Z"
   },
   {
    "duration": 7744,
    "start_time": "2022-11-10T19:34:02.012Z"
   },
   {
    "duration": 46,
    "start_time": "2022-11-10T19:34:59.963Z"
   },
   {
    "duration": 7870,
    "start_time": "2022-11-10T19:36:20.059Z"
   },
   {
    "duration": 14873,
    "start_time": "2022-11-10T19:37:26.475Z"
   },
   {
    "duration": 62217,
    "start_time": "2022-11-10T19:38:13.925Z"
   },
   {
    "duration": 6550,
    "start_time": "2022-11-10T19:39:37.984Z"
   },
   {
    "duration": 4,
    "start_time": "2022-11-10T20:16:06.698Z"
   },
   {
    "duration": 39,
    "start_time": "2022-11-10T20:16:06.703Z"
   },
   {
    "duration": 3,
    "start_time": "2022-11-10T20:17:59.032Z"
   },
   {
    "duration": 45,
    "start_time": "2022-11-10T20:17:59.831Z"
   },
   {
    "duration": 20,
    "start_time": "2022-11-10T20:18:01.222Z"
   },
   {
    "duration": 11,
    "start_time": "2022-11-10T20:18:01.448Z"
   },
   {
    "duration": 16,
    "start_time": "2022-11-10T20:18:01.629Z"
   },
   {
    "duration": 14,
    "start_time": "2022-11-10T20:18:01.823Z"
   },
   {
    "duration": 4,
    "start_time": "2022-11-10T20:18:02.022Z"
   },
   {
    "duration": 13,
    "start_time": "2022-11-10T20:18:02.581Z"
   },
   {
    "duration": 675,
    "start_time": "2022-11-10T20:18:03.168Z"
   },
   {
    "duration": 4,
    "start_time": "2022-11-10T20:18:03.845Z"
   },
   {
    "duration": 136,
    "start_time": "2022-11-10T20:18:03.939Z"
   },
   {
    "duration": 5,
    "start_time": "2022-11-10T20:18:04.321Z"
   },
   {
    "duration": 127,
    "start_time": "2022-11-10T20:18:04.519Z"
   },
   {
    "duration": 5,
    "start_time": "2022-11-10T20:18:06.368Z"
   },
   {
    "duration": 4,
    "start_time": "2022-11-10T20:18:08.365Z"
   },
   {
    "duration": 19,
    "start_time": "2022-11-10T20:18:09.769Z"
   },
   {
    "duration": 9,
    "start_time": "2022-11-10T20:18:13.453Z"
   },
   {
    "duration": 8,
    "start_time": "2022-11-10T20:18:14.165Z"
   },
   {
    "duration": 3,
    "start_time": "2022-11-10T20:18:17.512Z"
   },
   {
    "duration": 10,
    "start_time": "2022-11-10T20:18:19.237Z"
   },
   {
    "duration": 6019,
    "start_time": "2022-11-10T20:18:26.405Z"
   },
   {
    "duration": 228643,
    "start_time": "2022-11-10T20:18:38.203Z"
   },
   {
    "duration": 1667,
    "start_time": "2022-11-11T10:36:55.940Z"
   },
   {
    "duration": 138,
    "start_time": "2022-11-11T10:36:57.610Z"
   },
   {
    "duration": 23,
    "start_time": "2022-11-11T10:36:59.529Z"
   },
   {
    "duration": 12,
    "start_time": "2022-11-11T10:36:59.914Z"
   },
   {
    "duration": 17,
    "start_time": "2022-11-11T10:37:00.305Z"
   },
   {
    "duration": 12,
    "start_time": "2022-11-11T10:37:00.498Z"
   },
   {
    "duration": 5,
    "start_time": "2022-11-11T10:37:00.721Z"
   },
   {
    "duration": 18,
    "start_time": "2022-11-11T10:37:01.296Z"
   },
   {
    "duration": 824,
    "start_time": "2022-11-11T10:37:01.857Z"
   },
   {
    "duration": 5,
    "start_time": "2022-11-11T10:37:02.683Z"
   },
   {
    "duration": 264,
    "start_time": "2022-11-11T10:37:02.690Z"
   },
   {
    "duration": 4,
    "start_time": "2022-11-11T10:37:03.081Z"
   },
   {
    "duration": 141,
    "start_time": "2022-11-11T10:37:03.329Z"
   },
   {
    "duration": 6,
    "start_time": "2022-11-11T10:37:05.255Z"
   },
   {
    "duration": 6,
    "start_time": "2022-11-11T10:37:06.991Z"
   },
   {
    "duration": 22,
    "start_time": "2022-11-11T10:37:07.236Z"
   },
   {
    "duration": 11,
    "start_time": "2022-11-11T10:37:10.829Z"
   },
   {
    "duration": 8,
    "start_time": "2022-11-11T10:37:11.845Z"
   },
   {
    "duration": 3,
    "start_time": "2022-11-11T10:37:33.787Z"
   },
   {
    "duration": 12,
    "start_time": "2022-11-11T10:37:37.618Z"
   },
   {
    "duration": 8413,
    "start_time": "2022-11-11T10:37:52.232Z"
   },
   {
    "duration": 7590,
    "start_time": "2022-11-11T10:38:59.806Z"
   },
   {
    "duration": 562780,
    "start_time": "2022-11-11T10:44:46.008Z"
   },
   {
    "duration": 852672,
    "start_time": "2022-11-11T10:55:40.708Z"
   },
   {
    "duration": 4,
    "start_time": "2022-11-11T11:38:51.140Z"
   },
   {
    "duration": 42,
    "start_time": "2022-11-11T11:38:51.979Z"
   },
   {
    "duration": 27,
    "start_time": "2022-11-11T11:38:52.843Z"
   },
   {
    "duration": 13,
    "start_time": "2022-11-11T11:38:53.040Z"
   },
   {
    "duration": 20,
    "start_time": "2022-11-11T11:38:53.230Z"
   },
   {
    "duration": 14,
    "start_time": "2022-11-11T11:38:53.426Z"
   },
   {
    "duration": 5,
    "start_time": "2022-11-11T11:38:53.618Z"
   },
   {
    "duration": 19,
    "start_time": "2022-11-11T11:38:54.206Z"
   },
   {
    "duration": 745,
    "start_time": "2022-11-11T11:38:54.794Z"
   },
   {
    "duration": 5,
    "start_time": "2022-11-11T11:38:55.541Z"
   },
   {
    "duration": 154,
    "start_time": "2022-11-11T11:38:55.586Z"
   },
   {
    "duration": 5,
    "start_time": "2022-11-11T11:38:56.017Z"
   },
   {
    "duration": 146,
    "start_time": "2022-11-11T11:38:56.210Z"
   },
   {
    "duration": 5,
    "start_time": "2022-11-11T11:38:57.240Z"
   },
   {
    "duration": 4,
    "start_time": "2022-11-11T11:38:58.056Z"
   },
   {
    "duration": 23,
    "start_time": "2022-11-11T11:38:58.280Z"
   },
   {
    "duration": 10,
    "start_time": "2022-11-11T11:38:59.080Z"
   },
   {
    "duration": 8,
    "start_time": "2022-11-11T11:38:59.280Z"
   },
   {
    "duration": 3,
    "start_time": "2022-11-11T11:39:00.288Z"
   },
   {
    "duration": 12,
    "start_time": "2022-11-11T11:39:01.871Z"
   },
   {
    "duration": 8119,
    "start_time": "2022-11-11T11:39:06.973Z"
   },
   {
    "duration": 33149,
    "start_time": "2022-11-11T11:39:59.031Z"
   },
   {
    "duration": 11,
    "start_time": "2022-11-11T11:41:22.392Z"
   },
   {
    "duration": 3,
    "start_time": "2022-11-11T11:41:36.497Z"
   },
   {
    "duration": 3,
    "start_time": "2022-11-11T11:41:39.222Z"
   },
   {
    "duration": 11,
    "start_time": "2022-11-11T11:41:40.269Z"
   },
   {
    "duration": 12,
    "start_time": "2022-11-11T11:41:50.786Z"
   },
   {
    "duration": 7,
    "start_time": "2022-11-11T11:42:15.165Z"
   },
   {
    "duration": 11,
    "start_time": "2022-11-11T11:42:26.002Z"
   },
   {
    "duration": 297,
    "start_time": "2022-11-11T11:42:36.111Z"
   },
   {
    "duration": 294,
    "start_time": "2022-11-11T11:43:17.760Z"
   },
   {
    "duration": 12,
    "start_time": "2022-11-11T11:44:12.258Z"
   },
   {
    "duration": 7937,
    "start_time": "2022-11-11T11:45:34.999Z"
   },
   {
    "duration": 31495,
    "start_time": "2022-11-11T11:46:14.592Z"
   },
   {
    "duration": 6,
    "start_time": "2022-11-11T11:47:51.029Z"
   },
   {
    "duration": 8,
    "start_time": "2022-11-11T11:47:51.917Z"
   },
   {
    "duration": 4,
    "start_time": "2022-11-11T11:50:08.392Z"
   },
   {
    "duration": 11,
    "start_time": "2022-11-11T11:50:41.391Z"
   },
   {
    "duration": 10,
    "start_time": "2022-11-11T11:51:14.288Z"
   },
   {
    "duration": 4,
    "start_time": "2022-11-11T12:04:50.826Z"
   },
   {
    "duration": 42,
    "start_time": "2022-11-11T12:04:51.493Z"
   },
   {
    "duration": 19,
    "start_time": "2022-11-11T12:04:52.247Z"
   },
   {
    "duration": 12,
    "start_time": "2022-11-11T12:04:52.447Z"
   },
   {
    "duration": 21,
    "start_time": "2022-11-11T12:04:52.647Z"
   },
   {
    "duration": 14,
    "start_time": "2022-11-11T12:04:52.832Z"
   },
   {
    "duration": 4,
    "start_time": "2022-11-11T12:04:53.041Z"
   },
   {
    "duration": 15,
    "start_time": "2022-11-11T12:04:53.630Z"
   },
   {
    "duration": 885,
    "start_time": "2022-11-11T12:04:54.229Z"
   },
   {
    "duration": 5,
    "start_time": "2022-11-11T12:04:55.116Z"
   },
   {
    "duration": 188,
    "start_time": "2022-11-11T12:04:55.123Z"
   },
   {
    "duration": 5,
    "start_time": "2022-11-11T12:04:55.483Z"
   },
   {
    "duration": 156,
    "start_time": "2022-11-11T12:04:55.701Z"
   },
   {
    "duration": 5,
    "start_time": "2022-11-11T12:04:57.309Z"
   },
   {
    "duration": 4,
    "start_time": "2022-11-11T12:04:58.494Z"
   },
   {
    "duration": 18,
    "start_time": "2022-11-11T12:04:59.380Z"
   },
   {
    "duration": 11,
    "start_time": "2022-11-11T12:05:01.348Z"
   },
   {
    "duration": 9,
    "start_time": "2022-11-11T12:05:01.737Z"
   },
   {
    "duration": 4,
    "start_time": "2022-11-11T12:05:03.642Z"
   },
   {
    "duration": 3,
    "start_time": "2022-11-11T12:05:05.234Z"
   },
   {
    "duration": 11,
    "start_time": "2022-11-11T12:05:08.431Z"
   },
   {
    "duration": 8103,
    "start_time": "2022-11-11T12:05:28.293Z"
   },
   {
    "duration": 7952,
    "start_time": "2022-11-11T12:06:22.200Z"
   },
   {
    "duration": 58207,
    "start_time": "2022-11-11T12:07:02.182Z"
   },
   {
    "duration": 42359,
    "start_time": "2022-11-11T12:08:51.625Z"
   },
   {
    "duration": 6,
    "start_time": "2022-11-11T12:10:10.117Z"
   },
   {
    "duration": 9,
    "start_time": "2022-11-11T12:10:11.517Z"
   },
   {
    "duration": 40935,
    "start_time": "2022-11-11T12:10:27.052Z"
   },
   {
    "duration": 321,
    "start_time": "2022-11-11T12:13:39.764Z"
   },
   {
    "duration": 249,
    "start_time": "2022-11-11T12:14:05.307Z"
   },
   {
    "duration": 14,
    "start_time": "2022-11-11T12:16:13.974Z"
   },
   {
    "duration": 18,
    "start_time": "2022-11-11T12:16:33.961Z"
   },
   {
    "duration": 32405,
    "start_time": "2022-11-11T12:19:13.479Z"
   },
   {
    "duration": 258,
    "start_time": "2022-11-11T12:20:07.812Z"
   },
   {
    "duration": 283,
    "start_time": "2022-11-11T12:20:23.955Z"
   },
   {
    "duration": 356,
    "start_time": "2022-11-11T12:23:52.138Z"
   },
   {
    "duration": 266,
    "start_time": "2022-11-11T12:24:46.702Z"
   },
   {
    "duration": 243,
    "start_time": "2022-11-11T12:25:41.811Z"
   },
   {
    "duration": 2444,
    "start_time": "2022-11-11T15:38:30.982Z"
   },
   {
    "duration": 205,
    "start_time": "2022-11-11T15:38:37.286Z"
   },
   {
    "duration": 24,
    "start_time": "2022-11-11T15:38:38.008Z"
   },
   {
    "duration": 13,
    "start_time": "2022-11-11T15:38:38.162Z"
   },
   {
    "duration": 18,
    "start_time": "2022-11-11T15:38:38.641Z"
   },
   {
    "duration": 11,
    "start_time": "2022-11-11T15:38:38.806Z"
   },
   {
    "duration": 5,
    "start_time": "2022-11-11T15:38:39.586Z"
   },
   {
    "duration": 17,
    "start_time": "2022-11-11T15:38:40.366Z"
   },
   {
    "duration": 871,
    "start_time": "2022-11-11T15:38:41.998Z"
   },
   {
    "duration": 5,
    "start_time": "2022-11-11T15:38:42.872Z"
   },
   {
    "duration": 243,
    "start_time": "2022-11-11T15:38:42.879Z"
   },
   {
    "duration": 4,
    "start_time": "2022-11-11T15:38:43.583Z"
   },
   {
    "duration": 144,
    "start_time": "2022-11-11T15:38:43.788Z"
   },
   {
    "duration": 5,
    "start_time": "2022-11-11T15:38:45.318Z"
   },
   {
    "duration": 4,
    "start_time": "2022-11-11T15:38:50.881Z"
   },
   {
    "duration": 22,
    "start_time": "2022-11-11T15:38:51.423Z"
   },
   {
    "duration": 13,
    "start_time": "2022-11-11T15:38:59.416Z"
   },
   {
    "duration": 9,
    "start_time": "2022-11-11T15:39:08.849Z"
   },
   {
    "duration": 3,
    "start_time": "2022-11-11T15:43:10.423Z"
   },
   {
    "duration": 10,
    "start_time": "2022-11-11T15:43:13.281Z"
   },
   {
    "duration": 7250,
    "start_time": "2022-11-11T15:43:18.286Z"
   },
   {
    "duration": 1568,
    "start_time": "2022-11-12T12:30:01.242Z"
   },
   {
    "duration": 115,
    "start_time": "2022-11-12T12:30:02.812Z"
   },
   {
    "duration": 21,
    "start_time": "2022-11-12T12:30:02.929Z"
   },
   {
    "duration": 12,
    "start_time": "2022-11-12T12:30:02.952Z"
   },
   {
    "duration": 19,
    "start_time": "2022-11-12T12:30:02.965Z"
   },
   {
    "duration": 11,
    "start_time": "2022-11-12T12:30:02.985Z"
   },
   {
    "duration": 3,
    "start_time": "2022-11-12T12:30:02.998Z"
   },
   {
    "duration": 13,
    "start_time": "2022-11-12T12:30:04.100Z"
   },
   {
    "duration": 754,
    "start_time": "2022-11-12T12:30:04.699Z"
   },
   {
    "duration": 4,
    "start_time": "2022-11-12T12:30:05.455Z"
   },
   {
    "duration": 207,
    "start_time": "2022-11-12T12:30:05.540Z"
   },
   {
    "duration": 3,
    "start_time": "2022-11-12T12:30:05.922Z"
   },
   {
    "duration": 126,
    "start_time": "2022-11-12T12:30:06.104Z"
   },
   {
    "duration": 5,
    "start_time": "2022-11-12T12:30:07.637Z"
   },
   {
    "duration": 5,
    "start_time": "2022-11-12T12:30:15.540Z"
   },
   {
    "duration": 128,
    "start_time": "2022-11-12T12:32:49.208Z"
   },
   {
    "duration": 3,
    "start_time": "2022-11-12T12:32:59.160Z"
   },
   {
    "duration": 20,
    "start_time": "2022-11-12T12:32:59.895Z"
   },
   {
    "duration": 10,
    "start_time": "2022-11-12T12:33:02.152Z"
   },
   {
    "duration": 8,
    "start_time": "2022-11-12T12:33:03.243Z"
   },
   {
    "duration": 3,
    "start_time": "2022-11-12T12:33:24.409Z"
   },
   {
    "duration": 1858,
    "start_time": "2022-11-13T11:59:23.676Z"
   },
   {
    "duration": 129,
    "start_time": "2022-11-13T11:59:25.538Z"
   },
   {
    "duration": 26,
    "start_time": "2022-11-13T11:59:25.669Z"
   },
   {
    "duration": 14,
    "start_time": "2022-11-13T11:59:26.080Z"
   },
   {
    "duration": 14,
    "start_time": "2022-11-13T11:59:26.537Z"
   },
   {
    "duration": 5,
    "start_time": "2022-11-13T11:59:26.839Z"
   },
   {
    "duration": 134,
    "start_time": "2022-11-13T11:59:27.478Z"
   },
   {
    "duration": 4,
    "start_time": "2022-11-13T11:59:43.580Z"
   },
   {
    "duration": 40,
    "start_time": "2022-11-13T11:59:44.330Z"
   },
   {
    "duration": 21,
    "start_time": "2022-11-13T11:59:45.495Z"
   },
   {
    "duration": 23,
    "start_time": "2022-11-13T11:59:46.127Z"
   },
   {
    "duration": 13,
    "start_time": "2022-11-13T11:59:46.822Z"
   },
   {
    "duration": 15,
    "start_time": "2022-11-13T11:59:47.483Z"
   },
   {
    "duration": 4,
    "start_time": "2022-11-13T11:59:48.199Z"
   },
   {
    "duration": 17,
    "start_time": "2022-11-13T11:59:49.797Z"
   },
   {
    "duration": 896,
    "start_time": "2022-11-13T11:59:51.576Z"
   },
   {
    "duration": 6,
    "start_time": "2022-11-13T11:59:54.091Z"
   },
   {
    "duration": 230,
    "start_time": "2022-11-13T11:59:54.583Z"
   },
   {
    "duration": 5,
    "start_time": "2022-11-13T11:59:55.484Z"
   },
   {
    "duration": 157,
    "start_time": "2022-11-13T11:59:55.892Z"
   },
   {
    "duration": 7,
    "start_time": "2022-11-13T11:59:58.392Z"
   },
   {
    "duration": 4,
    "start_time": "2022-11-13T12:00:01.782Z"
   },
   {
    "duration": 22,
    "start_time": "2022-11-13T12:00:02.839Z"
   },
   {
    "duration": 10,
    "start_time": "2022-11-13T12:00:06.587Z"
   },
   {
    "duration": 8,
    "start_time": "2022-11-13T12:00:08.437Z"
   },
   {
    "duration": 5,
    "start_time": "2022-11-13T12:00:20.979Z"
   },
   {
    "duration": 2,
    "start_time": "2022-11-13T12:00:21.680Z"
   },
   {
    "duration": 14,
    "start_time": "2022-11-13T12:04:33.029Z"
   },
   {
    "duration": 4,
    "start_time": "2022-11-13T12:05:08.933Z"
   },
   {
    "duration": 44,
    "start_time": "2022-11-13T12:05:09.572Z"
   },
   {
    "duration": 20,
    "start_time": "2022-11-13T12:05:10.673Z"
   },
   {
    "duration": 19,
    "start_time": "2022-11-13T12:05:11.201Z"
   },
   {
    "duration": 12,
    "start_time": "2022-11-13T12:05:11.569Z"
   },
   {
    "duration": 13,
    "start_time": "2022-11-13T12:05:11.785Z"
   },
   {
    "duration": 5,
    "start_time": "2022-11-13T12:05:11.964Z"
   },
   {
    "duration": 16,
    "start_time": "2022-11-13T12:05:12.572Z"
   },
   {
    "duration": 810,
    "start_time": "2022-11-13T12:05:13.153Z"
   },
   {
    "duration": 5,
    "start_time": "2022-11-13T12:05:13.965Z"
   },
   {
    "duration": 173,
    "start_time": "2022-11-13T12:05:14.020Z"
   },
   {
    "duration": 4,
    "start_time": "2022-11-13T12:05:14.399Z"
   },
   {
    "duration": 151,
    "start_time": "2022-11-13T12:05:14.599Z"
   },
   {
    "duration": 6,
    "start_time": "2022-11-13T12:05:15.745Z"
   },
   {
    "duration": 5,
    "start_time": "2022-11-13T12:05:16.671Z"
   },
   {
    "duration": 20,
    "start_time": "2022-11-13T12:05:16.910Z"
   },
   {
    "duration": 10,
    "start_time": "2022-11-13T12:05:18.183Z"
   },
   {
    "duration": 8,
    "start_time": "2022-11-13T12:05:18.415Z"
   },
   {
    "duration": 3,
    "start_time": "2022-11-13T12:05:19.933Z"
   },
   {
    "duration": 4,
    "start_time": "2022-11-13T12:05:20.673Z"
   },
   {
    "duration": 15,
    "start_time": "2022-11-13T12:05:22.396Z"
   },
   {
    "duration": 22,
    "start_time": "2022-11-13T12:05:47.632Z"
   },
   {
    "duration": 18,
    "start_time": "2022-11-13T12:07:05.481Z"
   },
   {
    "duration": 20,
    "start_time": "2022-11-13T12:07:44.473Z"
   },
   {
    "duration": 26,
    "start_time": "2022-11-13T12:08:29.531Z"
   },
   {
    "duration": 65,
    "start_time": "2022-11-13T12:15:33.912Z"
   },
   {
    "duration": 80,
    "start_time": "2022-11-13T12:15:54.559Z"
   },
   {
    "duration": 4,
    "start_time": "2022-11-13T12:16:05.477Z"
   },
   {
    "duration": 44,
    "start_time": "2022-11-13T12:16:06.029Z"
   },
   {
    "duration": 19,
    "start_time": "2022-11-13T12:16:06.540Z"
   },
   {
    "duration": 18,
    "start_time": "2022-11-13T12:16:06.740Z"
   },
   {
    "duration": 12,
    "start_time": "2022-11-13T12:16:07.000Z"
   },
   {
    "duration": 13,
    "start_time": "2022-11-13T12:16:07.221Z"
   },
   {
    "duration": 4,
    "start_time": "2022-11-13T12:16:07.428Z"
   },
   {
    "duration": 13,
    "start_time": "2022-11-13T12:16:08.103Z"
   },
   {
    "duration": 984,
    "start_time": "2022-11-13T12:16:08.781Z"
   },
   {
    "duration": 11,
    "start_time": "2022-11-13T12:16:09.767Z"
   },
   {
    "duration": 1179,
    "start_time": "2022-11-13T12:16:09.781Z"
   },
   {
    "duration": 5,
    "start_time": "2022-11-13T12:16:10.963Z"
   },
   {
    "duration": 183,
    "start_time": "2022-11-13T12:16:10.970Z"
   },
   {
    "duration": 7,
    "start_time": "2022-11-13T12:16:12.609Z"
   },
   {
    "duration": 5,
    "start_time": "2022-11-13T12:16:14.320Z"
   },
   {
    "duration": 24,
    "start_time": "2022-11-13T12:16:14.956Z"
   },
   {
    "duration": 11,
    "start_time": "2022-11-13T12:16:16.594Z"
   },
   {
    "duration": 8,
    "start_time": "2022-11-13T12:16:17.179Z"
   },
   {
    "duration": 5,
    "start_time": "2022-11-13T12:16:19.064Z"
   },
   {
    "duration": 4,
    "start_time": "2022-11-13T12:16:19.697Z"
   },
   {
    "duration": 74,
    "start_time": "2022-11-13T12:16:22.472Z"
   },
   {
    "duration": 47,
    "start_time": "2022-11-13T12:16:30.848Z"
   },
   {
    "duration": 38,
    "start_time": "2022-11-13T12:16:42.172Z"
   },
   {
    "duration": 37,
    "start_time": "2022-11-13T12:16:50.536Z"
   },
   {
    "duration": 35,
    "start_time": "2022-11-13T12:16:58.940Z"
   },
   {
    "duration": 43,
    "start_time": "2022-11-13T12:17:34.687Z"
   },
   {
    "duration": 19,
    "start_time": "2022-11-13T12:17:56.278Z"
   },
   {
    "duration": 20,
    "start_time": "2022-11-13T12:18:08.380Z"
   },
   {
    "duration": 36,
    "start_time": "2022-11-13T12:18:22.883Z"
   },
   {
    "duration": 12,
    "start_time": "2022-11-13T12:19:42.741Z"
   },
   {
    "duration": 12,
    "start_time": "2022-11-13T12:20:12.114Z"
   },
   {
    "duration": 8396,
    "start_time": "2022-11-13T12:23:34.416Z"
   },
   {
    "duration": 42,
    "start_time": "2022-11-13T12:24:16.188Z"
   },
   {
    "duration": 14,
    "start_time": "2022-11-13T12:24:52.149Z"
   },
   {
    "duration": 13,
    "start_time": "2022-11-13T12:25:14.520Z"
   },
   {
    "duration": 3,
    "start_time": "2022-11-13T12:25:28.772Z"
   },
   {
    "duration": 18,
    "start_time": "2022-11-13T12:25:30.523Z"
   },
   {
    "duration": 12,
    "start_time": "2022-11-13T12:25:36.000Z"
   },
   {
    "duration": 13,
    "start_time": "2022-11-13T12:29:03.925Z"
   },
   {
    "duration": 7841,
    "start_time": "2022-11-13T12:29:24.200Z"
   },
   {
    "duration": 8414,
    "start_time": "2022-11-13T12:30:19.619Z"
   },
   {
    "duration": 138232,
    "start_time": "2022-11-13T12:30:45.936Z"
   },
   {
    "duration": 87,
    "start_time": "2022-11-13T12:33:04.170Z"
   },
   {
    "duration": 4,
    "start_time": "2022-11-13T12:34:13.780Z"
   },
   {
    "duration": 39,
    "start_time": "2022-11-13T12:34:14.232Z"
   },
   {
    "duration": 19,
    "start_time": "2022-11-13T12:34:15.121Z"
   },
   {
    "duration": 18,
    "start_time": "2022-11-13T12:34:15.512Z"
   },
   {
    "duration": 11,
    "start_time": "2022-11-13T12:34:15.737Z"
   },
   {
    "duration": 13,
    "start_time": "2022-11-13T12:34:15.945Z"
   },
   {
    "duration": 5,
    "start_time": "2022-11-13T12:34:16.145Z"
   },
   {
    "duration": 13,
    "start_time": "2022-11-13T12:34:16.776Z"
   },
   {
    "duration": 825,
    "start_time": "2022-11-13T12:34:17.377Z"
   },
   {
    "duration": 5,
    "start_time": "2022-11-13T12:34:18.205Z"
   },
   {
    "duration": 153,
    "start_time": "2022-11-13T12:34:18.231Z"
   },
   {
    "duration": 5,
    "start_time": "2022-11-13T12:34:18.676Z"
   },
   {
    "duration": 149,
    "start_time": "2022-11-13T12:34:18.880Z"
   },
   {
    "duration": 5,
    "start_time": "2022-11-13T12:34:20.076Z"
   },
   {
    "duration": 5,
    "start_time": "2022-11-13T12:34:21.280Z"
   },
   {
    "duration": 22,
    "start_time": "2022-11-13T12:34:21.500Z"
   },
   {
    "duration": 9,
    "start_time": "2022-11-13T12:34:23.221Z"
   },
   {
    "duration": 6,
    "start_time": "2022-11-13T12:34:23.778Z"
   },
   {
    "duration": 3,
    "start_time": "2022-11-13T12:34:25.776Z"
   },
   {
    "duration": 3,
    "start_time": "2022-11-13T12:34:32.597Z"
   },
   {
    "duration": 4,
    "start_time": "2022-11-13T12:34:41.775Z"
   },
   {
    "duration": 189,
    "start_time": "2022-11-13T12:35:05.061Z"
   },
   {
    "duration": 8412,
    "start_time": "2022-11-13T12:35:22.068Z"
   },
   {
    "duration": 8402,
    "start_time": "2022-11-13T12:35:53.684Z"
   },
   {
    "duration": 125147,
    "start_time": "2022-11-13T12:36:08.413Z"
   },
   {
    "duration": 131955,
    "start_time": "2022-11-13T12:38:32.701Z"
   },
   {
    "duration": 6,
    "start_time": "2022-11-13T12:40:52.391Z"
   },
   {
    "duration": 11,
    "start_time": "2022-11-13T12:40:53.367Z"
   },
   {
    "duration": 4,
    "start_time": "2022-11-13T12:40:54.027Z"
   },
   {
    "duration": 122372,
    "start_time": "2022-11-13T12:40:59.700Z"
   },
   {
    "duration": 111224,
    "start_time": "2022-11-13T12:44:28.832Z"
   },
   {
    "duration": 84,
    "start_time": "2022-11-13T12:49:08.417Z"
   },
   {
    "duration": 147193,
    "start_time": "2022-11-13T12:49:19.400Z"
   },
   {
    "duration": 12,
    "start_time": "2022-11-13T12:53:30.505Z"
   },
   {
    "duration": 4,
    "start_time": "2022-11-13T12:53:42.039Z"
   },
   {
    "duration": 42,
    "start_time": "2022-11-13T12:53:43.082Z"
   },
   {
    "duration": 22,
    "start_time": "2022-11-13T12:53:43.875Z"
   },
   {
    "duration": 22,
    "start_time": "2022-11-13T12:53:44.433Z"
   },
   {
    "duration": 11,
    "start_time": "2022-11-13T12:53:44.707Z"
   },
   {
    "duration": 14,
    "start_time": "2022-11-13T12:53:45.224Z"
   },
   {
    "duration": 5,
    "start_time": "2022-11-13T12:53:45.808Z"
   },
   {
    "duration": 14,
    "start_time": "2022-11-13T12:53:48.270Z"
   },
   {
    "duration": 905,
    "start_time": "2022-11-13T12:53:49.640Z"
   },
   {
    "duration": 5,
    "start_time": "2022-11-13T12:53:50.910Z"
   },
   {
    "duration": 147,
    "start_time": "2022-11-13T12:53:52.080Z"
   },
   {
    "duration": 5,
    "start_time": "2022-11-13T12:53:53.005Z"
   },
   {
    "duration": 172,
    "start_time": "2022-11-13T12:53:53.377Z"
   },
   {
    "duration": 5,
    "start_time": "2022-11-13T12:53:55.767Z"
   },
   {
    "duration": 6,
    "start_time": "2022-11-13T12:53:57.525Z"
   },
   {
    "duration": 21,
    "start_time": "2022-11-13T12:53:58.668Z"
   },
   {
    "duration": 11,
    "start_time": "2022-11-13T12:54:01.339Z"
   },
   {
    "duration": 7,
    "start_time": "2022-11-13T12:54:01.628Z"
   },
   {
    "duration": 9,
    "start_time": "2022-11-13T12:54:25.416Z"
   },
   {
    "duration": 7,
    "start_time": "2022-11-13T12:54:25.703Z"
   },
   {
    "duration": 4,
    "start_time": "2022-11-13T12:54:26.813Z"
   },
   {
    "duration": 188,
    "start_time": "2022-11-13T12:54:27.462Z"
   },
   {
    "duration": 8181,
    "start_time": "2022-11-13T12:54:33.764Z"
   },
   {
    "duration": 187676,
    "start_time": "2022-11-13T12:57:13.585Z"
   },
   {
    "duration": 6,
    "start_time": "2022-11-13T13:01:10.318Z"
   },
   {
    "duration": 11,
    "start_time": "2022-11-13T13:01:13.919Z"
   },
   {
    "duration": 4,
    "start_time": "2022-11-13T13:01:16.203Z"
   },
   {
    "duration": 203755,
    "start_time": "2022-11-13T13:01:18.970Z"
   },
   {
    "duration": 5,
    "start_time": "2022-11-13T13:05:16.950Z"
   },
   {
    "duration": 358,
    "start_time": "2022-11-13T13:05:19.082Z"
   },
   {
    "duration": 280,
    "start_time": "2022-11-13T13:06:02.586Z"
   },
   {
    "duration": 2249,
    "start_time": "2022-11-13T16:24:38.144Z"
   },
   {
    "duration": 127,
    "start_time": "2022-11-13T16:24:40.395Z"
   },
   {
    "duration": 23,
    "start_time": "2022-11-13T16:24:40.886Z"
   },
   {
    "duration": 18,
    "start_time": "2022-11-13T16:24:41.704Z"
   },
   {
    "duration": 11,
    "start_time": "2022-11-13T16:24:42.131Z"
   },
   {
    "duration": 12,
    "start_time": "2022-11-13T16:24:42.337Z"
   },
   {
    "duration": 5,
    "start_time": "2022-11-13T16:24:42.922Z"
   },
   {
    "duration": 14,
    "start_time": "2022-11-13T16:24:44.600Z"
   },
   {
    "duration": 1053,
    "start_time": "2022-11-13T16:24:46.123Z"
   },
   {
    "duration": 5,
    "start_time": "2022-11-13T16:24:47.178Z"
   },
   {
    "duration": 210,
    "start_time": "2022-11-13T16:24:47.267Z"
   },
   {
    "duration": 4,
    "start_time": "2022-11-13T16:24:47.901Z"
   },
   {
    "duration": 133,
    "start_time": "2022-11-13T16:24:48.124Z"
   },
   {
    "duration": 6,
    "start_time": "2022-11-13T16:24:50.301Z"
   },
   {
    "duration": 4,
    "start_time": "2022-11-13T16:24:51.375Z"
   },
   {
    "duration": 21,
    "start_time": "2022-11-13T16:24:51.996Z"
   },
   {
    "duration": 9,
    "start_time": "2022-11-13T16:24:54.326Z"
   },
   {
    "duration": 6,
    "start_time": "2022-11-13T16:24:54.587Z"
   },
   {
    "duration": 3,
    "start_time": "2022-11-13T16:24:57.545Z"
   },
   {
    "duration": 19,
    "start_time": "2022-11-13T16:24:58.615Z"
   },
   {
    "duration": 7747,
    "start_time": "2022-11-13T16:25:16.748Z"
   },
   {
    "duration": 39100,
    "start_time": "2022-11-13T16:25:32.441Z"
   },
   {
    "duration": 110,
    "start_time": "2022-11-13T16:26:43.485Z"
   },
   {
    "duration": 4,
    "start_time": "2022-11-13T16:27:00.214Z"
   },
   {
    "duration": 47,
    "start_time": "2022-11-13T16:27:00.581Z"
   },
   {
    "duration": 21,
    "start_time": "2022-11-13T16:27:00.945Z"
   },
   {
    "duration": 17,
    "start_time": "2022-11-13T16:27:01.096Z"
   },
   {
    "duration": 9,
    "start_time": "2022-11-13T16:27:01.269Z"
   },
   {
    "duration": 12,
    "start_time": "2022-11-13T16:27:01.485Z"
   },
   {
    "duration": 4,
    "start_time": "2022-11-13T16:27:02.158Z"
   },
   {
    "duration": 12,
    "start_time": "2022-11-13T16:27:02.679Z"
   },
   {
    "duration": 687,
    "start_time": "2022-11-13T16:27:03.156Z"
   },
   {
    "duration": 3,
    "start_time": "2022-11-13T16:27:03.845Z"
   },
   {
    "duration": 145,
    "start_time": "2022-11-13T16:27:03.850Z"
   },
   {
    "duration": 4,
    "start_time": "2022-11-13T16:27:04.146Z"
   },
   {
    "duration": 130,
    "start_time": "2022-11-13T16:27:04.329Z"
   },
   {
    "duration": 5,
    "start_time": "2022-11-13T16:27:05.470Z"
   },
   {
    "duration": 4,
    "start_time": "2022-11-13T16:27:06.199Z"
   },
   {
    "duration": 26,
    "start_time": "2022-11-13T16:27:06.389Z"
   },
   {
    "duration": 10,
    "start_time": "2022-11-13T16:27:07.760Z"
   },
   {
    "duration": 7,
    "start_time": "2022-11-13T16:27:07.996Z"
   },
   {
    "duration": 3,
    "start_time": "2022-11-13T16:27:10.159Z"
   },
   {
    "duration": 18,
    "start_time": "2022-11-13T16:27:10.918Z"
   },
   {
    "duration": 6934,
    "start_time": "2022-11-13T16:27:15.156Z"
   },
   {
    "duration": 29506,
    "start_time": "2022-11-13T16:27:26.131Z"
   },
   {
    "duration": 9,
    "start_time": "2022-11-13T16:28:11.604Z"
   },
   {
    "duration": 3,
    "start_time": "2022-11-13T16:28:41.991Z"
   },
   {
    "duration": 5,
    "start_time": "2022-11-13T16:28:51.694Z"
   },
   {
    "duration": 9,
    "start_time": "2022-11-13T16:28:53.493Z"
   },
   {
    "duration": 3,
    "start_time": "2022-11-13T16:28:58.552Z"
   },
   {
    "duration": 41200,
    "start_time": "2022-11-13T16:29:03.443Z"
   },
   {
    "duration": 4,
    "start_time": "2022-11-13T16:30:04.737Z"
   },
   {
    "duration": 7,
    "start_time": "2022-11-13T16:30:18.197Z"
   }
  ],
  "kernelspec": {
   "display_name": "Python 3 (ipykernel)",
   "language": "python",
   "name": "python3"
  },
  "language_info": {
   "codemirror_mode": {
    "name": "ipython",
    "version": 3
   },
   "file_extension": ".py",
   "mimetype": "text/x-python",
   "name": "python",
   "nbconvert_exporter": "python",
   "pygments_lexer": "ipython3",
   "version": "3.9.12"
  },
  "toc": {
   "base_numbering": 1,
   "nav_menu": {},
   "number_sections": true,
   "sideBar": true,
   "skip_h1_title": true,
   "title_cell": "Содержание",
   "title_sidebar": "Contents",
   "toc_cell": true,
   "toc_position": {
    "height": "calc(100% - 180px)",
    "left": "10px",
    "top": "150px",
    "width": "165px"
   },
   "toc_section_display": true,
   "toc_window_display": true
  }
 },
 "nbformat": 4,
 "nbformat_minor": 2
}
